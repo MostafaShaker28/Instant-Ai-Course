{
  "nbformat": 4,
  "nbformat_minor": 0,
  "metadata": {
    "colab": {
      "provenance": []
    },
    "kernelspec": {
      "name": "python3",
      "display_name": "Python 3"
    },
    "language_info": {
      "name": "python"
    }
  },
  "cells": [
    {
      "cell_type": "code",
      "execution_count": 7,
      "metadata": {
        "id": "vs_SU3ng0tbN",
        "outputId": "efd692fa-3766-4d09-e53d-408c0d3c83a4",
        "colab": {
          "base_uri": "https://localhost:8080/"
        }
      },
      "outputs": [
        {
          "output_type": "stream",
          "name": "stdout",
          "text": [
            "Mostafa\n"
          ]
        }
      ],
      "source": [
        "print(\"Mostafa\")"
      ]
    },
    {
      "cell_type": "markdown",
      "source": [
        "\n",
        "# **WAP to enter a number from user and print its absolute value.**"
      ],
      "metadata": {
        "id": "MnWAiH2o0zSa"
      }
    },
    {
      "cell_type": "code",
      "source": [
        "num = int(input(\"Enter Your Number:\"))\n",
        "if(num < 0):\n",
        " print(num * -1)\n",
        "else:\n",
        " print(num)"
      ],
      "metadata": {
        "id": "l3oLMLbk02Pj",
        "outputId": "33d18cf7-d9db-4734-f5e5-d6d193dac8ce",
        "colab": {
          "base_uri": "https://localhost:8080/"
        }
      },
      "execution_count": 5,
      "outputs": [
        {
          "output_type": "stream",
          "name": "stdout",
          "text": [
            "Enter Your Number:-1\n",
            "1\n"
          ]
        }
      ]
    },
    {
      "cell_type": "markdown",
      "source": [
        "# **WAP to enter a year from user and check if it is leap year or not.**"
      ],
      "metadata": {
        "id": "pOnjNwNx03Tr"
      }
    },
    {
      "cell_type": "code",
      "source": [
        "year = int(input(\"Enter Your Year:\"))\n",
        "if(year %400 == 0):\n",
        "  print(\"Year is Leap Year\")\n",
        "else:\n",
        "  print(\"Year is not Leap Year\")"
      ],
      "metadata": {
        "id": "4PEtUTm51H6x",
        "outputId": "202ba9e1-dcec-41d7-c2e7-c9460e180ef9",
        "colab": {
          "base_uri": "https://localhost:8080/"
        }
      },
      "execution_count": 14,
      "outputs": [
        {
          "output_type": "stream",
          "name": "stdout",
          "text": [
            "Enter Your Year:2005\n",
            "Year is not Leap Year\n"
          ]
        }
      ]
    },
    {
      "cell_type": "markdown",
      "source": [
        "# **WAP to enter the age of 3 person and print oldest and yougest among them.**"
      ],
      "metadata": {
        "id": "sn-NADUn1VGn"
      }
    },
    {
      "cell_type": "code",
      "source": [
        "age1=int(input(\"enter age1:\"))\n",
        "age2=int(input(\"enter age2:\"))\n",
        "age3=int(input(\"enter age3:\"))\n",
        "if age1>age2 and age1>age3:\n",
        "    print('age1 is oldest')\n",
        "elif (age2>age1 and age2>age3):\n",
        "    print('age2 is oldest')\n",
        "else:\n",
        "    print('age3 is oldest')\n",
        "if (age1<age2 and age1<age3):\n",
        "    print('age1 is youngest')\n",
        "elif (age2<age1 and age2<age3):\n",
        "    print('age2 is youngest')\n",
        "else:\n",
        "     print('age3 is youngest')"
      ],
      "metadata": {
        "id": "uNGWS1AT1cYP",
        "outputId": "fc4eab9e-0cdf-4d62-a611-ca41cba5cd03",
        "colab": {
          "base_uri": "https://localhost:8080/"
        }
      },
      "execution_count": 15,
      "outputs": [
        {
          "output_type": "stream",
          "name": "stdout",
          "text": [
            "enter age1:10\n",
            "enter age2:20\n",
            "enter age3:23\n",
            "age3 is oldest\n",
            "age1 is youngest\n"
          ]
        }
      ]
    },
    {
      "cell_type": "markdown",
      "source": [
        "# **Write a program that asks the user to enter a series of numbers. The program should ask for numbers until the user enters a negative number. Once the user enters a negative number, the program should stop and print the sum of all the positive numbers entered**\n",
        "# **Example**\n",
        "# **Enter a number: 5**\n",
        "# **Enter a number: 8**\n",
        "# **Enter a number: 12**\n",
        "# **Enter a number: -2**\n",
        "# **The sum of the positive numbers is 25.**"
      ],
      "metadata": {
        "id": "XFRRNGVj1dEw"
      }
    },
    {
      "cell_type": "code",
      "source": [
        "num = int(input(\"Enter a Number:\"))\n",
        "sum = 0\n",
        "while num >= 0:\n",
        "  sum += num\n",
        "  num = int(input(\"Enter a Number:\"))\n",
        "print(sum)"
      ],
      "metadata": {
        "id": "ijp9SzHu2A3p",
        "outputId": "435fb89e-df37-496d-b787-e96cce44b02a",
        "colab": {
          "base_uri": "https://localhost:8080/"
        }
      },
      "execution_count": 17,
      "outputs": [
        {
          "output_type": "stream",
          "name": "stdout",
          "text": [
            "Enter a Number:10\n",
            "Enter a Number:20\n",
            "Enter a Number:-9\n",
            "30\n"
          ]
        }
      ]
    },
    {
      "cell_type": "markdown",
      "source": [
        "# **Write a program that asks the user to enter their name and age. The program should check if the user's age is greater than or equal to 18. If it is, the program should print a message saying they are eligible to vote. Otherwise, the program should print a message saying they are not eligible to vote due to being underage.**"
      ],
      "metadata": {
        "id": "oODCHUj62DxA"
      }
    },
    {
      "cell_type": "code",
      "source": [
        "name = input(\"Enter Your Name:\")\n",
        "age = int(input(\"Enter Your age:\"))\n",
        "if age >= 18:\n",
        "  print(\"eligible to vote\")\n",
        "else:\n",
        "  print(\" not eligible to vote\")"
      ],
      "metadata": {
        "id": "Svls1cLA2JVA",
        "outputId": "cab456a8-7d85-491c-c89d-5c3182f96973",
        "colab": {
          "base_uri": "https://localhost:8080/"
        }
      },
      "execution_count": 18,
      "outputs": [
        {
          "output_type": "stream",
          "name": "stdout",
          "text": [
            "Enter Your Name:Mostafa\n",
            "Enter Your age:20\n",
            "eligible to vote\n"
          ]
        }
      ]
    },
    {
      "cell_type": "markdown",
      "source": [
        "# **Write a Python Program to Find the Factorial of a Number**"
      ],
      "metadata": {
        "id": "2y5o5SqL3nvL"
      }
    },
    {
      "cell_type": "code",
      "source": [
        "num = 6\n",
        "factorial = 1\n",
        "for i in range(1, num + 1):\n",
        "    factorial *= i\n",
        "print(factorial)"
      ],
      "metadata": {
        "id": "Q_v3ns1D3tgy",
        "outputId": "bb92ca09-1ffa-4c84-d1c7-1683bcec87d7",
        "colab": {
          "base_uri": "https://localhost:8080/"
        }
      },
      "execution_count": 19,
      "outputs": [
        {
          "output_type": "stream",
          "name": "stdout",
          "text": [
            "720\n"
          ]
        }
      ]
    }
  ]
}