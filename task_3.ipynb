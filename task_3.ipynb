{
  "cells": [
    {
      "cell_type": "markdown",
      "id": "ff38aad7",
      "metadata": {
        "id": "ff38aad7"
      },
      "source": [
        "### 1-Write a Python program that takes two numbers as user input and performs addition on them."
      ]
    },
    {
      "cell_type": "code",
      "execution_count": 1,
      "id": "91696b79",
      "metadata": {
        "id": "91696b79",
        "outputId": "d1649bba-e95d-4126-b183-3b5b866fa17f",
        "colab": {
          "base_uri": "https://localhost:8080/"
        }
      },
      "outputs": [
        {
          "output_type": "stream",
          "name": "stdout",
          "text": [
            "10\n"
          ]
        }
      ],
      "source": [
        "num1 = 4\n",
        "num2 = 6\n",
        "sum = num1 + num2\n",
        "print(sum)"
      ]
    },
    {
      "cell_type": "markdown",
      "id": "360854ff",
      "metadata": {
        "id": "360854ff"
      },
      "source": [
        "### 2-Write a Python program that takes an integer as input and checks if it is even or odd. Print \"Even\" if the number is divisible by 2, otherwise print \"Odd\"."
      ]
    },
    {
      "cell_type": "code",
      "execution_count": 3,
      "id": "ee4c35fe",
      "metadata": {
        "ExecuteTime": {
          "end_time": "2023-07-23T21:35:24.351946Z",
          "start_time": "2023-07-23T21:35:23.287212Z"
        },
        "id": "ee4c35fe",
        "outputId": "d8c3b2a0-2e80-48f4-b675-01a5c5e1e7a4",
        "colab": {
          "base_uri": "https://localhost:8080/"
        }
      },
      "outputs": [
        {
          "output_type": "stream",
          "name": "stdout",
          "text": [
            "Enter a number: 8\n",
            "8 is an even number.\n"
          ]
        }
      ],
      "source": [
        "n = int(input(\"Enter a number: \"))\n",
        "\n",
        "if n % 2 == 0:\n",
        "    print(n, \"is an even number.\")\n",
        "else:\n",
        "    print(n, \"is an odd number.\")"
      ]
    },
    {
      "cell_type": "code",
      "execution_count": 4,
      "id": "24616afc",
      "metadata": {
        "id": "24616afc",
        "outputId": "d07d88c8-8550-4a66-f55c-3da05f5eb5e3",
        "colab": {
          "base_uri": "https://localhost:8080/"
        }
      },
      "outputs": [
        {
          "output_type": "stream",
          "name": "stdout",
          "text": [
            "Enter a number: 7\n",
            "7 is an odd number.\n"
          ]
        }
      ],
      "source": [
        "n = int(input(\"Enter a number: \"))\n",
        "\n",
        "if n % 2 == 0:\n",
        "    print(n, \"is an even number.\")\n",
        "else:\n",
        "    print(n, \"is an odd number.\")"
      ]
    },
    {
      "cell_type": "markdown",
      "id": "6ea0354c",
      "metadata": {
        "id": "6ea0354c"
      },
      "source": [
        "### 3-Write a Python program that prints all the even numbers from 1 to 20 using a for loop"
      ]
    },
    {
      "cell_type": "code",
      "execution_count": 5,
      "id": "df43b7f5",
      "metadata": {
        "ExecuteTime": {
          "end_time": "2023-07-23T21:36:51.373589Z",
          "start_time": "2023-07-23T21:36:51.365580Z"
        },
        "id": "df43b7f5",
        "outputId": "d71fa0f4-1711-4b52-b19f-b6138c70e77b",
        "colab": {
          "base_uri": "https://localhost:8080/"
        }
      },
      "outputs": [
        {
          "output_type": "stream",
          "name": "stdout",
          "text": [
            "Even numbers:\n",
            "2\n",
            "4\n",
            "6\n",
            "8\n",
            "10\n",
            "12\n",
            "14\n",
            "16\n",
            "18\n",
            "20\n"
          ]
        }
      ],
      "source": [
        "print(\"Even numbers:\")\n",
        "for num in range(1, 21):\n",
        "    if num % 2 == 0:\n",
        "        print(num)"
      ]
    },
    {
      "cell_type": "code",
      "execution_count": 6,
      "id": "cc16a5c2",
      "metadata": {
        "ExecuteTime": {
          "end_time": "2023-07-23T22:04:21.481350Z",
          "start_time": "2023-07-23T22:04:21.452242Z"
        },
        "id": "cc16a5c2",
        "outputId": "849da6b4-fd36-4842-efef-d52b367d0795",
        "colab": {
          "base_uri": "https://localhost:8080/"
        }
      },
      "outputs": [
        {
          "output_type": "stream",
          "name": "stdout",
          "text": [
            "\n",
            "Odd numbers:\n",
            "1\n",
            "3\n",
            "5\n",
            "7\n",
            "9\n",
            "11\n",
            "13\n",
            "15\n",
            "17\n",
            "19\n"
          ]
        }
      ],
      "source": [
        "print(\"Odd numbers:\")\n",
        "for num in range(1, 21):\n",
        "    if num % 2 != 0:\n",
        "        print(num)"
      ]
    },
    {
      "cell_type": "markdown",
      "id": "2d66bab2",
      "metadata": {
        "id": "2d66bab2"
      },
      "source": [
        "### 4-Write a Python function that takes a string as input and counts the number of vowels (a, e, i, o, u) in the string. The function should return the count"
      ]
    },
    {
      "cell_type": "code",
      "execution_count": 12,
      "id": "a37a84fd",
      "metadata": {
        "ExecuteTime": {
          "end_time": "2023-07-23T21:45:58.522044Z",
          "start_time": "2023-07-23T21:45:58.514370Z"
        },
        "id": "a37a84fd",
        "outputId": "f7972d88-6557-467a-9458-358d8e38b396",
        "colab": {
          "base_uri": "https://localhost:8080/"
        }
      },
      "outputs": [
        {
          "output_type": "stream",
          "name": "stdout",
          "text": [
            "enter a value: mostafa\n",
            "The number of vowels in string is: 3\n"
          ]
        }
      ],
      "source": [
        "s = input(\"enter a value: \")\n",
        "t = 0\n",
        "for i in s:\n",
        " if i in \"aeiouAEIOU\":\n",
        "  t+=1\n",
        "print(\"The number of vowels in string is:\",t)"
      ]
    },
    {
      "cell_type": "code",
      "execution_count": 15,
      "id": "2eb8e4de",
      "metadata": {
        "ExecuteTime": {
          "end_time": "2023-07-23T23:56:27.324204Z",
          "start_time": "2023-07-23T23:56:26.972092Z"
        },
        "id": "2eb8e4de",
        "outputId": "154ee61e-9f90-41c6-fd1d-3964781489fa",
        "colab": {
          "base_uri": "https://localhost:8080/"
        }
      },
      "outputs": [
        {
          "output_type": "stream",
          "name": "stdout",
          "text": [
            "enter a value: mkkjjkj\n",
            "The number of vowels in string is: 0\n"
          ]
        }
      ],
      "source": [
        "s = input(\"enter a value: \")\n",
        "t = 0\n",
        "for i in s:\n",
        " if i in \"aeiouAEIOU\":\n",
        "  t+=1\n",
        "print(\"The number of vowels in string is:\",t)"
      ]
    },
    {
      "cell_type": "code",
      "execution_count": 16,
      "id": "24105679",
      "metadata": {
        "ExecuteTime": {
          "end_time": "2023-07-23T21:43:41.353283Z",
          "start_time": "2023-07-23T21:43:41.332496Z"
        },
        "id": "24105679",
        "outputId": "f44fc9fe-3b4d-4393-8e43-faf0917fbf89",
        "colab": {
          "base_uri": "https://localhost:8080/"
        }
      },
      "outputs": [
        {
          "output_type": "stream",
          "name": "stdout",
          "text": [
            "enter a value: nusjssde\n",
            "The number of vowels in string is: 2\n"
          ]
        }
      ],
      "source": [
        "s = input(\"enter a value: \")\n",
        "t = 0\n",
        "for i in s:\n",
        " if i in \"aeiouAEIOU\":\n",
        "  t+=1\n",
        "print(\"The number of vowels in string is:\",t)"
      ]
    },
    {
      "cell_type": "markdown",
      "id": "a9a0ea06",
      "metadata": {
        "id": "a9a0ea06"
      },
      "source": [
        "### 5-Write a Python program that creates a list of numbers from 1 to 10. Use a loop to iterate over the list and print each number of power 2."
      ]
    },
    {
      "cell_type": "code",
      "execution_count": 17,
      "id": "6fa658cf",
      "metadata": {
        "ExecuteTime": {
          "end_time": "2023-07-23T21:48:02.328880Z",
          "start_time": "2023-07-23T21:48:02.314313Z"
        },
        "id": "6fa658cf",
        "outputId": "31bb199f-b264-40bb-8b73-af1543d90289",
        "colab": {
          "base_uri": "https://localhost:8080/"
        }
      },
      "outputs": [
        {
          "output_type": "stream",
          "name": "stdout",
          "text": [
            "1\n",
            "2\n",
            "3\n",
            "4\n",
            "5\n",
            "6\n",
            "7\n",
            "8\n",
            "9\n",
            "10\n"
          ]
        }
      ],
      "source": [
        "for i in range(1, 11):\n",
        "    print(i)"
      ]
    },
    {
      "cell_type": "markdown",
      "id": "430c9df9",
      "metadata": {
        "id": "430c9df9"
      },
      "source": [
        "### 6-Write a Python program that calculates the average grade for a student based on their scores in different subjects. The program should include the following steps:\n",
        "\n",
        "#### 1-Create variables to store the student's name, subject names, and corresponding scores. Initialize the variables with sample data.\n",
        "\n",
        "#### 2-Prompt the user to enter the student's name and assign it to the name variable.\n",
        "\n",
        "#### 3-Use a loop to prompt the user to enter the subject names and corresponding scores. Store the subject names in a list and the scores in another list.\n",
        "\n",
        "#### 4-After collecting the scores, calculate the average grade by summing up all the scores and dividing by the total number of subjects.\n",
        "\n",
        "#### 5-Check if the average grade is above a 70, print a congratulatory message. Otherwise, print an encouragement message."
      ]
    },
    {
      "cell_type": "code",
      "execution_count": 25,
      "id": "e0254271",
      "metadata": {
        "ExecuteTime": {
          "end_time": "2023-07-15T16:16:17.066909Z",
          "start_time": "2023-07-15T16:16:07.636799Z"
        },
        "id": "e0254271",
        "outputId": "6b5fdc40-b4de-4a67-fef5-d1791f83eee5",
        "colab": {
          "base_uri": "https://localhost:8080/"
        }
      },
      "outputs": [
        {
          "output_type": "stream",
          "name": "stdout",
          "text": [
            "enter the name of the first student: ahmed\n",
            "Enter the score on test 1 for the student: 8\n",
            "Enter the score on test 2 for the student: 10\n",
            "Enter the score on test 3 for the student: 40\n",
            "enter the name of the first student: mostafa\n",
            "Enter the score on test 1 for the student: 20\n",
            "Enter the score on test 2 for the student: 20\n",
            "Enter the score on test 3 for the student: 20\n",
            "enter the name of the first student: mohamed\n",
            "Enter the score on test 1 for the student: 30\n",
            "Enter the score on test 2 for the student: 10\n",
            "Enter the score on test 3 for the student: 18\n",
            "enter the name of the first student: ibrahem\n",
            "Enter the score on test 1 for the student: 19\n",
            "Enter the score on test 2 for the student: 20\n",
            "Enter the score on test 3 for the student: 30\n",
            "Enter the score on test 4 for the student: 9\n",
            "enter the name of the first student: abas\n",
            "Enter the score on test 1 for the student: 10\n",
            "Enter the score on test 2 for the student: 20\n",
            "Enter the score on test 3 for the student: 40\n",
            "Enter the score on test 4 for the student: 1\n",
            "enter the name of the first student: meky\n",
            "Enter the score on test 1 for the student: 19\n",
            "Enter the score on test 2 for the student: 48\n",
            "Enter the score on test 3 for the student: 58\n",
            "Enter the score on test 4 for the student: 4\n",
            "('ibrahem', 19.5)\n",
            "ENTER EXAM SCORE: \n",
            "('abas', 17.75)\n",
            "ENTER EXAM SCORE: \n",
            "('meky', 32.25)\n",
            "ENTER EXAM SCORE: \n"
          ]
        }
      ],
      "source": [
        "values = []\n",
        "for i in range(0, 3):\n",
        "   name = input(\"enter the name of the first student: \")\n",
        "   test_1 = int(input(\"Enter the score on test 1 for the student: \"))\n",
        "\n",
        "   test_2 = int(input(\"Enter the score on test 2 for the student: \"))\n",
        "   test_3 = int(input(\"Enter the score on test 3 for the student: \"))\n",
        "values = []\n",
        "for i in range(0, 3):\n",
        "   name = input(\"enter the name of the first student: \")\n",
        "   test_1 = int(input(\"Enter the score on test 1 for the student: \"))\n",
        "\n",
        "   test_2 = int(input(\"Enter the score on test 2 for the student: \"))\n",
        "   test_3 = int(input(\"Enter the score on test 3 for the student: \"))\n",
        "   test_4 = int(input(\"Enter the score on test 4 for the student: \"))\n",
        "   values.append((name,  (test_1 + test_2 + test_3+test_4) / 4))\n",
        "for row in values:\n",
        "   print(row)\n",
        "   print(\"ENTER EXAM SCORE: \")"
      ]
    },
    {
      "cell_type": "markdown",
      "id": "ae9df360",
      "metadata": {
        "id": "ae9df360"
      },
      "source": [
        "### 7-Find Common Elements\n",
        "### Write a Python function that takes two lists as input and returns a new list containing the common elements present in both lists."
      ]
    },
    {
      "cell_type": "code",
      "execution_count": 27,
      "id": "d030c3c0",
      "metadata": {
        "ExecuteTime": {
          "end_time": "2023-07-23T22:08:16.794474Z",
          "start_time": "2023-07-23T22:08:16.775639Z"
        },
        "id": "d030c3c0",
        "outputId": "f77afa19-c573-4ccd-f335-61efb5097ac8",
        "colab": {
          "base_uri": "https://localhost:8080/"
        }
      },
      "outputs": [
        {
          "output_type": "stream",
          "name": "stdout",
          "text": [
            "[4, 5]\n"
          ]
        }
      ],
      "source": [
        "list1 = [1, 2, 3, 4, 5]\n",
        "list2 = [4, 5, 6, 7, 8]\n",
        "\n",
        "common = []\n",
        "for item in list1:\n",
        "    if item in list2 and item not in common:\n",
        "        common.append(item)\n",
        "\n",
        "print(common)"
      ]
    },
    {
      "cell_type": "code",
      "execution_count": 28,
      "id": "371369cd",
      "metadata": {
        "ExecuteTime": {
          "end_time": "2023-07-23T23:56:27.326200Z",
          "start_time": "2023-07-23T23:56:27.326200Z"
        },
        "id": "371369cd",
        "outputId": "c91f7324-5b0e-45c6-b00c-53db741a535f",
        "colab": {
          "base_uri": "https://localhost:8080/"
        }
      },
      "outputs": [
        {
          "output_type": "stream",
          "name": "stdout",
          "text": [
            "[2, 2, 4]\n"
          ]
        }
      ],
      "source": [
        "list1 = [1, 2, 2, 3, 4, 5]\n",
        "list2 = [2, 2, 4, 6, 7]\n",
        "\n",
        "common = []\n",
        "list2_copy = list2[:]\n",
        "\n",
        "for item in list1:\n",
        "    if item in list2_copy:\n",
        "        common.append(item)\n",
        "        list2_copy.remove(item)\n",
        "print(common)\n"
      ]
    },
    {
      "cell_type": "markdown",
      "id": "9a2f34cb",
      "metadata": {
        "id": "9a2f34cb"
      },
      "source": [
        "### 8-Write a Python function that takes a list of numbers and an element to remove from the list."
      ]
    },
    {
      "cell_type": "code",
      "execution_count": 29,
      "id": "78de9fe8",
      "metadata": {
        "ExecuteTime": {
          "end_time": "2023-07-23T22:21:36.514592Z",
          "start_time": "2023-07-23T22:21:36.505437Z"
        },
        "id": "78de9fe8",
        "outputId": "cd37980c-1b85-4880-9d13-7bd78954dc31",
        "colab": {
          "base_uri": "https://localhost:8080/"
        }
      },
      "outputs": [
        {
          "output_type": "stream",
          "name": "stdout",
          "text": [
            "[1, 3, 4, 5]\n"
          ]
        }
      ],
      "source": [
        "numbers = [1, 2, 3, 4, 2, 5, 2]\n",
        "element_to_remove = 2\n",
        "\n",
        "filtered_numbers = [item for item in numbers if item != element_to_remove]\n",
        "print(filtered_numbers)"
      ]
    },
    {
      "cell_type": "code",
      "execution_count": 30,
      "id": "d80aa813",
      "metadata": {
        "ExecuteTime": {
          "end_time": "2023-07-23T22:21:37.220121Z",
          "start_time": "2023-07-23T22:21:37.215586Z"
        },
        "id": "d80aa813",
        "outputId": "901e8298-edac-4504-e32d-322c72b30455",
        "colab": {
          "base_uri": "https://localhost:8080/"
        }
      },
      "outputs": [
        {
          "output_type": "stream",
          "name": "stdout",
          "text": [
            "[1, 3, 4, 5]\n"
          ]
        }
      ],
      "source": [
        "numbers = [1, 2, 3, 4, 2, 5, 2]\n",
        "element_to_remove = 2\n",
        "\n",
        "while element_to_remove in numbers:\n",
        "    numbers.remove(element_to_remove)\n",
        "\n",
        "print(numbers)"
      ]
    },
    {
      "cell_type": "markdown",
      "id": "f1658f3b",
      "metadata": {
        "ExecuteTime": {
          "end_time": "2023-07-23T22:18:08.230185Z",
          "start_time": "2023-07-23T22:18:08.224220Z"
        },
        "id": "f1658f3b"
      },
      "source": [
        "### 9-Given 4 numbers A, B, C and D. Print the last 2 digits from their Multiplication.\n",
        "### Example :\n",
        "### the Multiplication of 4 numbers is 5 * 7 * 2 * 4 = 280 so the answer will be the last 2 digits which are 80."
      ]
    },
    {
      "cell_type": "code",
      "execution_count": 34,
      "id": "e3acbe03",
      "metadata": {
        "ExecuteTime": {
          "end_time": "2023-07-23T22:26:11.183016Z",
          "start_time": "2023-07-23T22:26:03.981069Z"
        },
        "id": "e3acbe03",
        "outputId": "7cc4b609-6e30-46ad-e17a-bc658fcb4a63",
        "colab": {
          "base_uri": "https://localhost:8080/"
        }
      },
      "outputs": [
        {
          "output_type": "stream",
          "name": "stdout",
          "text": [
            "3 1 2 3\n",
            "18\n"
          ]
        }
      ],
      "source": [
        "A, B, C, D = map(int, input().split())\n",
        "\n",
        "result = (A * B * C * D) % 100\n",
        "\n",
        "print(f\"{result:02d}\")"
      ]
    },
    {
      "cell_type": "markdown",
      "id": "d7ab15bb",
      "metadata": {
        "ExecuteTime": {
          "end_time": "2023-07-23T22:26:14.833712Z",
          "start_time": "2023-07-23T22:26:14.819130Z"
        },
        "id": "d7ab15bb"
      },
      "source": [
        "### 10- Given a number X. Determine if the number is prime or not"
      ]
    },
    {
      "cell_type": "code",
      "execution_count": 35,
      "id": "59b27f0a",
      "metadata": {
        "ExecuteTime": {
          "end_time": "2023-07-23T22:35:25.933766Z",
          "start_time": "2023-07-23T22:35:24.168681Z"
        },
        "id": "59b27f0a",
        "outputId": "49d94700-08fa-41e4-d95a-857294bac8d5",
        "colab": {
          "base_uri": "https://localhost:8080/"
        }
      },
      "outputs": [
        {
          "output_type": "stream",
          "name": "stdout",
          "text": [
            "2\n",
            "Prime\n"
          ]
        }
      ],
      "source": [
        "X = int(input())\n",
        "\n",
        "if X <= 1:\n",
        "    print(\"Not Prime\")\n",
        "elif X <= 3:\n",
        "    print(\"Prime\")\n",
        "elif X % 2 == 0 or X % 3 == 0:\n",
        "    print(\"Not Prime\")\n",
        "else:\n",
        "    is_prime = True\n",
        "    for i in range(5, int(X ** 0.5) + 1, 2):\n",
        "        if X % i == 0:\n",
        "            is_prime = False\n",
        "            break\n",
        "\n",
        "    print(\"Prime\" if is_prime else \"Not Prime\")\n"
      ]
    },
    {
      "cell_type": "code",
      "execution_count": 36,
      "id": "03f6ff0e",
      "metadata": {
        "id": "03f6ff0e",
        "outputId": "1068cb27-e653-4ece-fcf9-43c8da02ded0",
        "colab": {
          "base_uri": "https://localhost:8080/"
        }
      },
      "outputs": [
        {
          "output_type": "stream",
          "name": "stdout",
          "text": [
            "1\n",
            "Not Prime\n"
          ]
        }
      ],
      "source": [
        "X = int(input())\n",
        "\n",
        "if X <= 1:\n",
        "    print(\"Not Prime\")\n",
        "elif X <= 3:\n",
        "    print(\"Prime\")\n",
        "elif X % 2 == 0 or X % 3 == 0:\n",
        "    print(\"Not Prime\")\n",
        "else:\n",
        "    is_prime = True\n",
        "    for i in range(5, int(X ** 0.5) + 1, 2):\n",
        "        if X % i == 0:\n",
        "            is_prime = False\n",
        "            break\n",
        "\n",
        "    print(\"Prime\" if is_prime else \"Not Prime\")"
      ]
    },
    {
      "cell_type": "markdown",
      "id": "e1d1dcf9",
      "metadata": {
        "id": "e1d1dcf9"
      },
      "source": [
        "### 11- Given a number N and a list A of N numbers. Determine if the number X exists in array A or not and print its position (0-index)."
      ]
    },
    {
      "cell_type": "code",
      "execution_count": 42,
      "id": "2b002b0e",
      "metadata": {
        "ExecuteTime": {
          "end_time": "2023-07-23T22:53:41.474835Z",
          "start_time": "2023-07-23T22:53:41.458293Z"
        },
        "id": "2b002b0e",
        "outputId": "8dccb3f1-3762-47de-d4a2-c38b87b686ca",
        "colab": {
          "base_uri": "https://localhost:8080/"
        }
      },
      "outputs": [
        {
          "output_type": "stream",
          "name": "stdout",
          "text": [
            "12\n",
            "1223145\n",
            "12\n",
            "Not Found\n"
          ]
        }
      ],
      "source": [
        "N = int(input())\n",
        "A = list(map(int, input().split()))\n",
        "X = int(input())\n",
        "if X in A:\n",
        "    print(A.index(X))\n",
        "else:\n",
        "    print(\"Not Found\")\n"
      ]
    },
    {
      "cell_type": "markdown",
      "id": "f2ec854b",
      "metadata": {
        "id": "f2ec854b"
      },
      "source": [
        "### 12- Given a number N and a list A of N numbers. Determine if the array is lucky or not.\n",
        "\n",
        "#### Note: the array is lucky if the frequency (number of occurrence) of the minimum element is odd."
      ]
    },
    {
      "cell_type": "code",
      "execution_count": 43,
      "id": "0c4f7f4b",
      "metadata": {
        "ExecuteTime": {
          "end_time": "2023-07-23T23:02:02.490192Z",
          "start_time": "2023-07-23T23:02:02.476874Z"
        },
        "id": "0c4f7f4b",
        "outputId": "330cccc8-cf5b-4fe5-89da-1f2414771e49",
        "colab": {
          "base_uri": "https://localhost:8080/"
        }
      },
      "outputs": [
        {
          "output_type": "stream",
          "name": "stdout",
          "text": [
            "2\n",
            "3\n",
            "Lucky\n"
          ]
        }
      ],
      "source": [
        "N = int(input())\n",
        "A = list(map(int, input().split()))\n",
        "\n",
        "min_element = min(A)\n",
        "\n",
        "frequency = 0\n",
        "for num in A:\n",
        "    if num == min_element:\n",
        "        frequency += 1\n",
        "if frequency % 2 == 1:\n",
        "    print(\"Lucky\")\n",
        "else:\n",
        "    print(\"Not Lucky\")\n"
      ]
    },
    {
      "cell_type": "markdown",
      "id": "e1ce1ae5",
      "metadata": {
        "id": "e1ce1ae5"
      },
      "source": [
        "### 13-Given a number N and a list A of N numbers. Print the array after doing the following operations:\n",
        "\n",
        "#### Find minimum number in these numbers.\n",
        "#### Find maximum number in these numbers.\n",
        "##### Swap minimum number with maximum number."
      ]
    },
    {
      "cell_type": "code",
      "execution_count": 44,
      "id": "e0d6e639",
      "metadata": {
        "ExecuteTime": {
          "end_time": "2023-07-23T23:10:04.293733Z",
          "start_time": "2023-07-23T23:10:04.280256Z"
        },
        "id": "e0d6e639",
        "outputId": "3b5b72ba-28b9-485a-92fd-f519bc15c056",
        "colab": {
          "base_uri": "https://localhost:8080/"
        }
      },
      "outputs": [
        {
          "output_type": "stream",
          "name": "stdout",
          "text": [
            "3\n",
            "1\n",
            "1\n"
          ]
        }
      ],
      "source": [
        "N = int(input())\n",
        "A = list(map(int, input().split()))\n",
        "\n",
        "min_value = min(A)\n",
        "max_value = max(A)\n",
        "\n",
        "min_index = A.index(min_value)\n",
        "max_index = A.index(max_value)\n",
        "\n",
        "A[min_index], A[max_index] = A[max_index], A[min_index]\n",
        "\n",
        "print(*A)\n"
      ]
    },
    {
      "cell_type": "code",
      "execution_count": null,
      "id": "20165184",
      "metadata": {
        "ExecuteTime": {
          "end_time": "2023-07-23T23:10:04.651957Z",
          "start_time": "2023-07-23T23:10:04.648955Z"
        },
        "id": "20165184"
      },
      "outputs": [],
      "source": []
    },
    {
      "cell_type": "code",
      "execution_count": null,
      "id": "4e5ac998",
      "metadata": {
        "ExecuteTime": {
          "end_time": "2023-07-23T23:56:27.327202Z",
          "start_time": "2023-07-23T23:56:27.327202Z"
        },
        "id": "4e5ac998"
      },
      "outputs": [],
      "source": [
        "maximum"
      ]
    },
    {
      "cell_type": "markdown",
      "id": "9eb8e9c5",
      "metadata": {
        "ExecuteTime": {
          "end_time": "2023-07-23T23:10:06.436833Z",
          "start_time": "2023-07-23T23:10:06.422086Z"
        },
        "id": "9eb8e9c5"
      },
      "source": [
        "### 14-Given a number N and an array A of N numbers. Print the lowest number and its position.\n",
        "\n",
        "### Note: if there are more than one answer print first one's position."
      ]
    },
    {
      "cell_type": "code",
      "execution_count": 45,
      "id": "477554c7",
      "metadata": {
        "ExecuteTime": {
          "end_time": "2023-07-23T23:20:55.126958Z",
          "start_time": "2023-07-23T23:20:55.120450Z"
        },
        "id": "477554c7",
        "outputId": "ade52d18-1f20-4035-c8fe-ebbeb0c0333d",
        "colab": {
          "base_uri": "https://localhost:8080/"
        }
      },
      "outputs": [
        {
          "output_type": "stream",
          "name": "stdout",
          "text": [
            "2\n",
            "2\n",
            "2 0\n"
          ]
        }
      ],
      "source": [
        "N = int(input())\n",
        "A = list(map(int, input().split()))\n",
        "\n",
        "min_value = min(A)\n",
        "\n",
        "min_position = A.index(min_value)\n",
        "\n",
        "print(min_value, min_position)\n"
      ]
    },
    {
      "cell_type": "markdown",
      "source": [
        "# **Write a Python Program to Find HCF.**\n",
        "## Highest Common Factor(HCF): HCF, or Highest Common Factor, is the largest positive integer that divides two or more numbers without leaving a remainder. Formula: For two numbers a and b, the HCF can be found using the formula:\n",
        "\n",
        "** HCF(𝑎, 𝑏) = GCD(𝑎, 𝑏)**\n",
        "For more than two numbers, you can find the HCF by taking the GCD of pairs of numbers at a time until you reach the last pair.\n",
        "\n",
        "# **Note: GCD stands for Greatest Common Divisor, use function.**\n"
      ],
      "metadata": {
        "id": "iS6JiE4uPbyH"
      },
      "id": "iS6JiE4uPbyH"
    },
    {
      "cell_type": "code",
      "source": [
        "N = int(input())\n",
        "A = list(map(int, input().split()))\n",
        "\n",
        "a = A[0]\n",
        "for b in A[1:]:\n",
        "    while b != 0:\n",
        "        a, b = b, a % b\n",
        "\n",
        "print(a)"
      ],
      "metadata": {
        "id": "9qUfYf0wPnvt",
        "outputId": "1fad16cf-7251-4a8a-856b-16569cba98c9",
        "colab": {
          "base_uri": "https://localhost:8080/"
        }
      },
      "id": "9qUfYf0wPnvt",
      "execution_count": 48,
      "outputs": [
        {
          "output_type": "stream",
          "name": "stdout",
          "text": [
            "4\n",
            "3\n",
            "3\n"
          ]
        }
      ]
    }
  ],
  "metadata": {
    "kernelspec": {
      "display_name": "Python 3 (ipykernel)",
      "language": "python",
      "name": "python3"
    },
    "language_info": {
      "codemirror_mode": {
        "name": "ipython",
        "version": 3
      },
      "file_extension": ".py",
      "mimetype": "text/x-python",
      "name": "python",
      "nbconvert_exporter": "python",
      "pygments_lexer": "ipython3",
      "version": "3.9.12"
    },
    "colab": {
      "provenance": []
    }
  },
  "nbformat": 4,
  "nbformat_minor": 5
}