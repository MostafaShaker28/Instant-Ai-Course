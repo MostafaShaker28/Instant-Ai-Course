{
  "cells": [
    {
      "cell_type": "markdown",
      "id": "759d04ba",
      "metadata": {
        "id": "759d04ba"
      },
      "source": [
        "**1-Write a Python program to calculate the length of a string using 2 ways"
      ]
    },
    {
      "cell_type": "code",
      "execution_count": null,
      "id": "e434c950",
      "metadata": {
        "id": "e434c950",
        "outputId": "638a843a-557d-4321-8c09-088d35881299",
        "colab": {
          "base_uri": "https://localhost:8080/"
        }
      },
      "outputs": [
        {
          "output_type": "stream",
          "name": "stdout",
          "text": [
            "Enter Your String Number: Mostafa\n",
            "7\n"
          ]
        }
      ],
      "source": [
        "st = input(\"Enter Your String Number: \")\n",
        "print(len(st))"
      ]
    },
    {
      "cell_type": "code",
      "execution_count": null,
      "id": "7a2dfa32",
      "metadata": {
        "id": "7a2dfa32"
      },
      "outputs": [],
      "source": [
        "st = input(\"Enter Your String Number: \")\n",
        "count = 0\n",
        "for n in st :\n",
        "  count+=1\n",
        "  print(count)"
      ]
    },
    {
      "cell_type": "markdown",
      "id": "d7cc9da7",
      "metadata": {
        "id": "d7cc9da7"
      },
      "source": [
        "**2-Write a Python program to get a string made of the first 2 and last 2 characters of a given string. If the string length is less than 2, return the empty string instead (\"##Sample String : 'w3resource'\n",
        "Expected Result : 'w3ce'\n",
        "##Sample String : 'w3'\n",
        "Expected Result : 'w3w3'\n",
        "##Sample String : ' w'\n",
        "Expected Result : Empty String)"
      ]
    },
    {
      "cell_type": "code",
      "execution_count": null,
      "id": "dafa9dd8",
      "metadata": {
        "id": "dafa9dd8",
        "colab": {
          "base_uri": "https://localhost:8080/"
        },
        "outputId": "8406edec-c669-43d5-8f06-12682334c90f"
      },
      "outputs": [
        {
          "output_type": "stream",
          "name": "stdout",
          "text": [
            "Enter Your String Characters: Mostafa\n",
            "Mofa\n"
          ]
        }
      ],
      "source": [
        "def LastTwoChars(x) :\n",
        "   if len(x) < 2 :\n",
        "    return \"\"\n",
        "   else :\n",
        "    return x[:2] + x[-2:]\n",
        "st = input(\"Enter Your String Characters: \")\n",
        "print(LastTwoChars(st))"
      ]
    },
    {
      "cell_type": "markdown",
      "id": "1534f956",
      "metadata": {
        "id": "1534f956"
      },
      "source": [
        "**3-Write a Python program to add 'ing' at the end of a given string (length should be at least 3). If the given string already ends with 'ing', add 'ly' instead. If the string length of the given string is less than 3, leave it unchanged. (Sample String : 'abc'\n",
        "Expected Result : 'abcing')"
      ]
    },
    {
      "cell_type": "code",
      "execution_count": null,
      "id": "7ff8cec4",
      "metadata": {
        "id": "7ff8cec4",
        "colab": {
          "base_uri": "https://localhost:8080/"
        },
        "outputId": "2ee7b7b5-1309-49d6-9370-8dde5da3cd1f"
      },
      "outputs": [
        {
          "output_type": "stream",
          "name": "stdout",
          "text": [
            "Write Your String: play\n",
            "playing\n",
            "None\n"
          ]
        }
      ],
      "source": [
        "def st_end(word) :\n",
        " if len(word) < 3 :\n",
        "  print(word)\n",
        " elif word.endswith(\"ing\") :\n",
        "  print(word + \"ly\")\n",
        " else :\n",
        "  print(word + \"ing\")\n",
        "st = input(\"Write Your String: \")\n",
        "print(st_end(st))"
      ]
    },
    {
      "cell_type": "markdown",
      "id": "1c0a6627",
      "metadata": {
        "id": "1c0a6627"
      },
      "source": [
        "**4-Write a Python function that takes a list of words and return the longest word and the length of the longest one\n",
        "(Longest word: Exercises\n",
        "Length of the longest word: 9)"
      ]
    },
    {
      "cell_type": "code",
      "execution_count": null,
      "id": "397341d9",
      "metadata": {
        "id": "397341d9",
        "colab": {
          "base_uri": "https://localhost:8080/"
        },
        "outputId": "b5856cef-15df-4f7d-8c8a-c12d1d12b738"
      },
      "outputs": [
        {
          "output_type": "stream",
          "name": "stdout",
          "text": [
            "Longest word is: Mohammed\n",
            "Length is: 8\n"
          ]
        }
      ],
      "source": [
        "def Long_Word():\n",
        "    List_word = [\"Mostafa\", \"Mohammed\", \"Abas\", \"Ibrahem\"]\n",
        "    longs = \"\"\n",
        "    for word in List_word:\n",
        "        if len(word) > len(longs):\n",
        "            longs = word\n",
        "    print(\"Longest word is:\", longs)\n",
        "    print(\"Length is:\", len(longs))\n",
        "\n",
        "Long_Word()\n"
      ]
    },
    {
      "cell_type": "markdown",
      "id": "53a03a6a",
      "metadata": {
        "id": "53a03a6a"
      },
      "source": [
        "**5-Write a Python program to change a given string to a newly string where the first and last chars have been exchanged using 2 ways (Sample String:abca  Expected Result:ebce)"
      ]
    },
    {
      "cell_type": "code",
      "execution_count": null,
      "id": "fd327d2a",
      "metadata": {
        "id": "fd327d2a",
        "colab": {
          "base_uri": "https://localhost:8080/"
        },
        "outputId": "0558020f-50ef-412d-ff5c-0f5bf4f008e6"
      },
      "outputs": [
        {
          "output_type": "stream",
          "name": "stdout",
          "text": [
            "Write The Word You Want To Replace: Mostafa\n",
            "Mostafa\n",
            "aostafM\n",
            "None\n"
          ]
        }
      ],
      "source": [
        "def swap_word(s) :\n",
        "  if len(s) > 2 :\n",
        "    print(s)\n",
        "  print(s[-1] + s[1:-1] + s[0])\n",
        "first_last = input(\"Write The Word You Want To Replace: \")\n",
        "print(swap_word(first_last))"
      ]
    },
    {
      "cell_type": "code",
      "execution_count": null,
      "id": "285788b4",
      "metadata": {
        "id": "285788b4",
        "colab": {
          "base_uri": "https://localhost:8080/"
        },
        "outputId": "329b144c-502d-428c-a439-7d872895a537"
      },
      "outputs": [
        {
          "output_type": "stream",
          "name": "stdout",
          "text": [
            "Write The Word You Want To Replace: Mostafa\n",
            "After swapping:  aostafM\n"
          ]
        }
      ],
      "source": [
        "def swap_word(s):\n",
        "    if len(s) > 2:\n",
        "        return f\"{s[-1]}{s[1:-1]}{s[0]}\"\n",
        "    else:\n",
        "        return s\n",
        "\n",
        "first_last = input(\"Write The Word You Want To Replace: \")\n",
        "print(\"After swapping: \", swap_word(first_last))"
      ]
    },
    {
      "cell_type": "markdown",
      "id": "25f89808",
      "metadata": {
        "id": "25f89808"
      },
      "source": [
        "**6-Write a Python program to remove characters that have odd index values in a given string (Sample String:abca Expected Result:ac)"
      ]
    },
    {
      "cell_type": "code",
      "execution_count": null,
      "id": "05959bd7",
      "metadata": {
        "id": "05959bd7",
        "colab": {
          "base_uri": "https://localhost:8080/"
        },
        "outputId": "f86fc01f-6923-4321-d687-2ea729e27e4f"
      },
      "outputs": [
        {
          "output_type": "stream",
          "name": "stdout",
          "text": [
            "Amd\n"
          ]
        }
      ],
      "source": [
        "char = \"Ahmed\"\n",
        "result = \"\"\n",
        "for i in range(len(char)) :\n",
        "  if i %2 == 0 :\n",
        "    result += char[i]\n",
        "print(result)"
      ]
    },
    {
      "cell_type": "markdown",
      "id": "eb16e898",
      "metadata": {
        "id": "eb16e898"
      },
      "source": [
        "**7-Write a Python program to count the occurrences of each word in a given sentence (Sample String:amr and ahmed are frindes but amr is the tallest Expected Result:2)"
      ]
    },
    {
      "cell_type": "code",
      "execution_count": null,
      "id": "01ce6cf5",
      "metadata": {
        "id": "01ce6cf5",
        "colab": {
          "base_uri": "https://localhost:8080/"
        },
        "outputId": "d1379434-f5c6-4246-c5ef-daecf32b4562"
      },
      "outputs": [
        {
          "output_type": "stream",
          "name": "stdout",
          "text": [
            "'amr' occurs 2 times\n",
            "'and' occurs 1 times\n",
            "'ahmed' occurs 1 times\n",
            "'are' occurs 1 times\n",
            "'friends' occurs 1 times\n",
            "'but' occurs 1 times\n",
            "'is' occurs 1 times\n",
            "'the' occurs 1 times\n",
            "'tallest' occurs 1 times\n"
          ]
        }
      ],
      "source": [
        "sentence = \"amr and ahmed are friends but amr is the tallest\"\n",
        "words = sentence.split()\n",
        "word_count = {}\n",
        "for word in words:\n",
        "    if word in word_count:\n",
        "        word_count[word] += 1\n",
        "    else:\n",
        "        word_count[word] = 1\n",
        "for word, count in word_count.items():\n",
        "    print(f\"'{word}' occurs {count} times\")"
      ]
    },
    {
      "cell_type": "markdown",
      "id": "4e8125f1",
      "metadata": {
        "id": "4e8125f1"
      },
      "source": [
        "**8-Write a Python script that takes input from the user and displays that input back in upper and lower cases"
      ]
    },
    {
      "cell_type": "code",
      "execution_count": null,
      "id": "66c8f778",
      "metadata": {
        "id": "66c8f778",
        "colab": {
          "base_uri": "https://localhost:8080/"
        },
        "outputId": "00b552d5-f34f-444e-89fb-3469826b973f"
      },
      "outputs": [
        {
          "output_type": "stream",
          "name": "stdout",
          "text": [
            "Write String: Mostafa\n",
            "Upper Case Is: MOSTAFA\n",
            "Lower Case Is: mostafa\n"
          ]
        }
      ],
      "source": [
        "s = input(\"Write String: \")\n",
        "print(f\"Upper Case Is: {s.upper()}\")\n",
        "print(f\"Lower Case Is: {s.lower()}\")"
      ]
    },
    {
      "cell_type": "markdown",
      "id": "fcd68aa1",
      "metadata": {
        "id": "fcd68aa1"
      },
      "source": [
        "**9-Write a Python function to reverse a string if its length is a multiple of 4"
      ]
    },
    {
      "cell_type": "code",
      "execution_count": null,
      "id": "0671a931",
      "metadata": {
        "id": "0671a931",
        "colab": {
          "base_uri": "https://localhost:8080/"
        },
        "outputId": "700c100c-2b01-4309-9dba-f3f57b77b6cd"
      },
      "outputs": [
        {
          "output_type": "stream",
          "name": "stdout",
          "text": [
            "aafatsoM\n"
          ]
        }
      ],
      "source": [
        "stri = \"Mostafaa\"\n",
        "if len(stri) %4 == 0:\n",
        "  print(stri[::-1])\n",
        "else :\n",
        "  print(stri)"
      ]
    },
    {
      "cell_type": "markdown",
      "id": "b577c68d",
      "metadata": {
        "id": "b577c68d"
      },
      "source": [
        "**10- Write a Python program to remove a newline in Python"
      ]
    },
    {
      "cell_type": "code",
      "execution_count": null,
      "id": "e0c6525a",
      "metadata": {
        "id": "e0c6525a",
        "colab": {
          "base_uri": "https://localhost:8080/"
        },
        "outputId": "d2b5784e-bfa5-4472-dcd5-9391b18f1432"
      },
      "outputs": [
        {
          "output_type": "stream",
          "name": "stdout",
          "text": [
            "Hello World\n"
          ]
        }
      ],
      "source": [
        "text = \"Hello\\n World\"\n",
        "print(text.replace(\"\\n\" , \"\"))"
      ]
    },
    {
      "cell_type": "markdown",
      "id": "80db5ae0",
      "metadata": {
        "id": "80db5ae0"
      },
      "source": [
        "**11-Write a Python program to check whether a string starts with specified characters"
      ]
    },
    {
      "cell_type": "code",
      "execution_count": null,
      "id": "0cc4e03e",
      "metadata": {
        "id": "0cc4e03e",
        "colab": {
          "base_uri": "https://localhost:8080/"
        },
        "outputId": "9aa81701-6cd7-446e-8465-6e9284f87bc1"
      },
      "outputs": [
        {
          "output_type": "stream",
          "name": "stdout",
          "text": [
            "Enter a String: Mostafa\n",
            "Enter the starting characters to check: M\n",
            "Mostafa yes, Its Starts With specified characters\n"
          ]
        }
      ],
      "source": [
        "char = input(\"Enter a String: \")\n",
        "start_char = input(\"Enter the starting characters to check: \")\n",
        "if char.startswith(start_char) :\n",
        "  print(char , \"yes, Its Starts With specified characters\")\n",
        "else :\n",
        "  print(\"No , Its Not Starts With specified characters\")"
      ]
    },
    {
      "cell_type": "markdown",
      "id": "593a68db",
      "metadata": {
        "id": "593a68db"
      },
      "source": [
        "**12- Write a Python program to add prefix text to all of the lines in a string"
      ]
    },
    {
      "cell_type": "code",
      "execution_count": null,
      "id": "d2e46ada",
      "metadata": {
        "id": "d2e46ada",
        "colab": {
          "base_uri": "https://localhost:8080/"
        },
        "outputId": "481ed702-09ff-4103-e1ec-6f3dea863199"
      },
      "outputs": [
        {
          "output_type": "stream",
          "name": "stdout",
          "text": [
            "Added A Prefix You Want To Add: -\n",
            "-Hello \n",
            "-My Friend\n",
            "-I Love You\n",
            "\n"
          ]
        }
      ],
      "source": [
        "st = \"\"\"Hello\n",
        "My Friend\n",
        "I Love You\"\"\"\n",
        "new_text = \"\"\n",
        "prefix = input(\"Added A Prefix You Want To Add: \")\n",
        "for n in st.splitlines() :\n",
        "  new_text += prefix + n + \"\\n\"\n",
        "print(new_text)"
      ]
    },
    {
      "cell_type": "markdown",
      "id": "86fa1543",
      "metadata": {
        "id": "86fa1543"
      },
      "source": [
        "**13-Write a Python program to print the following numbers up to 2 decimal places"
      ]
    },
    {
      "cell_type": "code",
      "execution_count": null,
      "id": "cd4a9d89",
      "metadata": {
        "id": "cd4a9d89",
        "colab": {
          "base_uri": "https://localhost:8080/"
        },
        "outputId": "3eb1e2d9-e19d-4b89-dca6-02e39e8098d8"
      },
      "outputs": [
        {
          "output_type": "stream",
          "name": "stdout",
          "text": [
            "enter a Number: 4.78437\n",
            "4.78\n"
          ]
        }
      ],
      "source": [
        "num = float(input(\"enter a Number: \"))\n",
        "print(f\"{num:.2f}\")"
      ]
    },
    {
      "cell_type": "markdown",
      "id": "452c0ab0",
      "metadata": {
        "id": "452c0ab0"
      },
      "source": [
        "**14-Write a Python program to print the following numbers up to 2 decimal places with a sign"
      ]
    },
    {
      "cell_type": "code",
      "execution_count": null,
      "id": "73e82479",
      "metadata": {
        "id": "73e82479",
        "colab": {
          "base_uri": "https://localhost:8080/"
        },
        "outputId": "a121d04f-86f6-4f37-fd7c-43713c1b12c4"
      },
      "outputs": [
        {
          "output_type": "stream",
          "name": "stdout",
          "text": [
            "enter a Number: 4.654645\n",
            "4.65\n"
          ]
        }
      ],
      "source": [
        "num = float(input(\"enter a Number: \"))\n",
        "print(f\"{num:.2f}\")"
      ]
    },
    {
      "cell_type": "markdown",
      "id": "32b1811a",
      "metadata": {
        "id": "32b1811a"
      },
      "source": [
        "**15-Write a Python program to display a number with a comma separator"
      ]
    },
    {
      "cell_type": "code",
      "execution_count": null,
      "id": "f30fc0b6",
      "metadata": {
        "id": "f30fc0b6",
        "colab": {
          "base_uri": "https://localhost:8080/"
        },
        "outputId": "18db4c6a-3433-4010-e668-1c4d4cc989c7"
      },
      "outputs": [
        {
          "output_type": "stream",
          "name": "stdout",
          "text": [
            "Enter a Number: 4545563\n",
            "4,545,563\n"
          ]
        }
      ],
      "source": [
        "num = int(input(\"Enter a Number: \"))\n",
        "print(f\"{num:,d}\")"
      ]
    },
    {
      "cell_type": "markdown",
      "id": "0477f487",
      "metadata": {
        "id": "0477f487"
      },
      "source": [
        "**16-Write a Python program to reverse a string using 2 ways"
      ]
    },
    {
      "cell_type": "code",
      "source": [
        "def reverse_string(s):\n",
        "  reverse_str = \"\"\n",
        "  for char in s :\n",
        "    reverse_str = char + reverse_str\n",
        "  return reverse_str\n",
        "st = input(\"Enter String You Want To Reverse: \")\n",
        "reversed_str = reverse_string(st)\n",
        "print(reversed_str)"
      ],
      "metadata": {
        "colab": {
          "base_uri": "https://localhost:8080/"
        },
        "id": "uTEDseiDjfJr",
        "outputId": "bf161266-5983-416b-af1b-e425da290200"
      },
      "id": "uTEDseiDjfJr",
      "execution_count": null,
      "outputs": [
        {
          "output_type": "stream",
          "name": "stdout",
          "text": [
            "Enter String You Want To Reverse: Mostafa\n",
            "afatsoM\n"
          ]
        }
      ]
    },
    {
      "cell_type": "code",
      "execution_count": null,
      "id": "aa8beec8",
      "metadata": {
        "id": "aa8beec8",
        "colab": {
          "base_uri": "https://localhost:8080/"
        },
        "outputId": "43de0b8e-ab10-4f88-b005-d5a228382819"
      },
      "outputs": [
        {
          "output_type": "stream",
          "name": "stdout",
          "text": [
            "afatsoM\n"
          ]
        }
      ],
      "source": [
        "st = \"Mostafa\"\n",
        "print(st[::-1])"
      ]
    },
    {
      "cell_type": "markdown",
      "id": "5afc3166",
      "metadata": {
        "id": "5afc3166"
      },
      "source": [
        " **17-Write a Python program to count repeated characters in a string (hint:use dictionary)"
      ]
    },
    {
      "cell_type": "code",
      "execution_count": null,
      "id": "515a469c",
      "metadata": {
        "id": "515a469c",
        "colab": {
          "base_uri": "https://localhost:8080/"
        },
        "outputId": "9892ec97-4da7-4494-cdc5-ff4bad3f77e0"
      },
      "outputs": [
        {
          "output_type": "stream",
          "name": "stdout",
          "text": [
            "Enter your string: Mostafa\n",
            "'a' is repeated 2 times\n"
          ]
        }
      ],
      "source": [
        "def repeted_char(repeat):\n",
        "  count_repeat = {}\n",
        "  for char in repeat :\n",
        "    if char in count_repeat:\n",
        "      count_repeat[char] += 1\n",
        "    else:\n",
        "      count_repeat[char] = 1\n",
        "\n",
        "  for char , count in count_repeat.items():\n",
        "     if count > 1 :\n",
        "      print(f\"'{char}' is repeated {count} times\")\n",
        "\n",
        "input_string = input(\"Enter your string: \")\n",
        "repeted_char(input_string)"
      ]
    },
    {
      "cell_type": "markdown",
      "id": "ae14e4e5",
      "metadata": {
        "id": "ae14e4e5"
      },
      "source": [
        "**18-Write a Python program to find the first non-repeating character in a given string"
      ]
    },
    {
      "cell_type": "code",
      "execution_count": null,
      "id": "d73778e5",
      "metadata": {
        "id": "d73778e5",
        "colab": {
          "base_uri": "https://localhost:8080/"
        },
        "outputId": "dcfba4a1-d07b-4193-ecef-1912493ae00c"
      },
      "outputs": [
        {
          "output_type": "stream",
          "name": "stdout",
          "text": [
            "The first non-repeating character is: e\n"
          ]
        }
      ],
      "source": [
        "def first_non_repeating_char(s):\n",
        "    char_count = {}\n",
        "\n",
        "    # Count each character\n",
        "    for char in s:\n",
        "        char_count[char] = char_count.get(char, 0) + 1\n",
        "\n",
        "    # Find the first character with count 1\n",
        "    for char in s:\n",
        "        if char_count[char] == 1:\n",
        "            return char\n",
        "\n",
        "    return None  # If all characters are repeating\n",
        "\n",
        "# Example usage\n",
        "input_string = \"aabbcddce\"\n",
        "result = first_non_repeating_char(input_string)\n",
        "\n",
        "if result:\n",
        "    print(f\"The first non-repeating character is: {result}\")\n",
        "else:\n",
        "    print(\"There is no non-repeating character.\")"
      ]
    },
    {
      "cell_type": "markdown",
      "id": "3adf5669",
      "metadata": {
        "id": "3adf5669"
      },
      "source": [
        "**19-Write a Python program to remove spaces from a given string"
      ]
    },
    {
      "cell_type": "code",
      "source": [
        "st = \"   Mostafa Shaker\"\n",
        "non_space = ''.join(st.split())\n",
        "print(no_space)"
      ],
      "metadata": {
        "colab": {
          "base_uri": "https://localhost:8080/"
        },
        "id": "4ckBSqrkCQV5",
        "outputId": "f25e8073-e11c-430b-f06a-b2d90b639763"
      },
      "id": "4ckBSqrkCQV5",
      "execution_count": null,
      "outputs": [
        {
          "output_type": "stream",
          "name": "stdout",
          "text": [
            "MostafaShaker\n"
          ]
        }
      ]
    },
    {
      "cell_type": "code",
      "execution_count": null,
      "id": "b4f22602",
      "metadata": {
        "id": "b4f22602",
        "colab": {
          "base_uri": "https://localhost:8080/"
        },
        "outputId": "c4928c71-0fcd-4013-e4f9-3126872a7551"
      },
      "outputs": [
        {
          "output_type": "stream",
          "name": "stdout",
          "text": [
            "MostafaShaker\n"
          ]
        }
      ],
      "source": [
        "st = \"   Mostafa Shaker\"\n",
        "no_space = st.replace(\" \" , \"\")\n",
        "print(no_space)"
      ]
    },
    {
      "cell_type": "markdown",
      "id": "734de60c",
      "metadata": {
        "id": "734de60c"
      },
      "source": [
        "**20-Write a Python program to count the number of non-empty substrings of a given string"
      ]
    },
    {
      "cell_type": "code",
      "execution_count": null,
      "id": "ef3f2274",
      "metadata": {
        "id": "ef3f2274",
        "colab": {
          "base_uri": "https://localhost:8080/"
        },
        "outputId": "00c33b8d-727a-47da-8bc8-08feeb31b2d0"
      },
      "outputs": [
        {
          "output_type": "stream",
          "name": "stdout",
          "text": [
            "28\n"
          ]
        }
      ],
      "source": [
        "def count_substring (st):\n",
        "  coun = len(st)\n",
        "  return coun * (coun + 1) // 2\n",
        "string = \"Mostafa\"\n",
        "result = count_substring(string)\n",
        "print(result)"
      ]
    },
    {
      "cell_type": "markdown",
      "id": "509998e2",
      "metadata": {
        "id": "509998e2"
      },
      "source": [
        "**21-write a Python program to swap first and last element of any list."
      ]
    },
    {
      "cell_type": "code",
      "execution_count": null,
      "id": "68692d7f",
      "metadata": {
        "id": "68692d7f",
        "colab": {
          "base_uri": "https://localhost:8080/"
        },
        "outputId": "d020f344-3ae1-415c-dfec-0be5c587f19c"
      },
      "outputs": [
        {
          "output_type": "stream",
          "name": "stdout",
          "text": [
            "Program After Swaping :[50, 30, 40, 20]\n"
          ]
        }
      ],
      "source": [
        "def swap_first_last(st):\n",
        "  if len(st) < 2:\n",
        "   return st\n",
        "  st[0] , st[-1] = st[-1] , st[0]\n",
        "  return st\n",
        "lista = [20 , 30 , 40 , 50]\n",
        "swapelem = swap_first_last(lista)\n",
        "print(f\"Program After Swaping :{swapelem}\")"
      ]
    },
    {
      "cell_type": "markdown",
      "id": "959e0837",
      "metadata": {
        "id": "959e0837"
      },
      "source": [
        "**22-Given a list in Python and provided the positions of the elements, write a program to swap the two elements in the list. (Input : List = [23, 65, 19, 90], pos1 = 1, pos2 = 3\n",
        "Output : [19, 65, 23, 90])"
      ]
    },
    {
      "cell_type": "code",
      "execution_count": null,
      "id": "225d8c6d",
      "metadata": {
        "id": "225d8c6d",
        "colab": {
          "base_uri": "https://localhost:8080/"
        },
        "outputId": "98f6bf6b-d400-42ff-c8e6-ae7b6a63bc6e"
      },
      "outputs": [
        {
          "output_type": "stream",
          "name": "stdout",
          "text": [
            "[19, 65, 23, 90]\n"
          ]
        }
      ],
      "source": [
        "def swap_element(pos1 , pos2 , element):\n",
        "  pos1 -= 1\n",
        "  pos2 -= 1\n",
        "  element[pos1] , element[pos2] = element[pos2] , element[pos1]\n",
        "  return element\n",
        "\n",
        "lis =  [23, 65, 19, 90]\n",
        "posion1 = 1\n",
        "posion2 = 3\n",
        "result = swap_element(posion1 , posion2 , lis)\n",
        "print(result)"
      ]
    },
    {
      "cell_type": "markdown",
      "id": "66fc6682",
      "metadata": {
        "id": "66fc6682"
      },
      "source": [
        "**23- search for the all ways to know the length of the list"
      ]
    },
    {
      "cell_type": "code",
      "execution_count": null,
      "id": "63ff8b43",
      "metadata": {
        "id": "63ff8b43"
      },
      "outputs": [],
      "source": [
        "**24-write a Python code to find the Maximum number of list of numbers."
      ]
    },
    {
      "cell_type": "code",
      "execution_count": null,
      "id": "15f342de",
      "metadata": {
        "id": "15f342de",
        "colab": {
          "base_uri": "https://localhost:8080/"
        },
        "outputId": "68f02c86-ca21-4770-e033-89d1181ec56d"
      },
      "outputs": [
        {
          "output_type": "stream",
          "name": "stdout",
          "text": [
            "49\n"
          ]
        }
      ],
      "source": [
        "lis = [10 , 29 , 30 , 49 , 19]\n",
        "print(max(lis))"
      ]
    },
    {
      "cell_type": "code",
      "execution_count": null,
      "id": "1a89b9d3",
      "metadata": {
        "id": "1a89b9d3"
      },
      "outputs": [],
      "source": [
        "**25-write a Python code to find the Minimum number of list of numbers."
      ]
    },
    {
      "cell_type": "code",
      "execution_count": null,
      "id": "21f8cbd6",
      "metadata": {
        "id": "21f8cbd6",
        "colab": {
          "base_uri": "https://localhost:8080/"
        },
        "outputId": "c932ad05-a316-4085-a3a6-fd8a12392f38"
      },
      "outputs": [
        {
          "output_type": "stream",
          "name": "stdout",
          "text": [
            "10\n"
          ]
        }
      ],
      "source": [
        "lis = [10 , 29 , 30 , 49 , 19]\n",
        "print(min(lis))"
      ]
    },
    {
      "cell_type": "markdown",
      "id": "96822d96",
      "metadata": {
        "id": "96822d96"
      },
      "source": [
        "**26-search for if an elem is existing in list"
      ]
    },
    {
      "cell_type": "code",
      "execution_count": null,
      "id": "51ca5c9a",
      "metadata": {
        "id": "51ca5c9a",
        "colab": {
          "base_uri": "https://localhost:8080/"
        },
        "outputId": "e35c7c5c-6603-4a72-db03-1b8c301dc66b"
      },
      "outputs": [
        {
          "output_type": "stream",
          "name": "stdout",
          "text": [
            "Search a Number: 49\n",
            "valid\n"
          ]
        }
      ],
      "source": [
        "lis = [10 , 29 , 30 , 49 , 19]\n",
        "elem = int(input(\"Search a Number: \"))\n",
        "if elem in lis:\n",
        "  print(\"valid\")\n",
        "else:\n",
        "  print(\"Not valid\")"
      ]
    },
    {
      "cell_type": "markdown",
      "id": "d9557da7",
      "metadata": {
        "id": "d9557da7"
      },
      "source": [
        "**27- clear python list using different ways"
      ]
    },
    {
      "cell_type": "code",
      "source": [
        "lis = [10 , 29 , 30 , 49 , 19]\n",
        "while lis:\n",
        "  lis.pop()\n",
        "print(lis)"
      ],
      "metadata": {
        "colab": {
          "base_uri": "https://localhost:8080/"
        },
        "id": "Y83faw24XkON",
        "outputId": "528305ca-6001-4c24-efb6-01d24d3d5257"
      },
      "id": "Y83faw24XkON",
      "execution_count": null,
      "outputs": [
        {
          "output_type": "stream",
          "name": "stdout",
          "text": [
            "[]\n"
          ]
        }
      ]
    },
    {
      "cell_type": "code",
      "source": [
        "lis = [10 , 29 , 30 , 49 , 19]\n",
        "del lis[:]\n",
        "print(lis)"
      ],
      "metadata": {
        "colab": {
          "base_uri": "https://localhost:8080/"
        },
        "id": "wqN0P6CZX845",
        "outputId": "68dee254-08e9-4913-9d2f-30982ff0d5a4"
      },
      "id": "wqN0P6CZX845",
      "execution_count": null,
      "outputs": [
        {
          "output_type": "stream",
          "name": "stdout",
          "text": [
            "[]\n"
          ]
        }
      ]
    },
    {
      "cell_type": "code",
      "execution_count": null,
      "id": "b69858a3",
      "metadata": {
        "id": "b69858a3",
        "colab": {
          "base_uri": "https://localhost:8080/"
        },
        "outputId": "aa1089ef-8289-46bf-dd21-2ac16f56b6e3"
      },
      "outputs": [
        {
          "output_type": "stream",
          "name": "stdout",
          "text": [
            "None\n"
          ]
        }
      ],
      "source": [
        "lis = [10 , 29 , 30 , 49 , 19]\n",
        "print(lis.clear())"
      ]
    },
    {
      "cell_type": "markdown",
      "id": "52160e88",
      "metadata": {
        "id": "52160e88"
      },
      "source": [
        "**28-remove duplicated elements from a list"
      ]
    },
    {
      "cell_type": "code",
      "execution_count": null,
      "id": "5e362228",
      "metadata": {
        "id": "5e362228",
        "colab": {
          "base_uri": "https://localhost:8080/"
        },
        "outputId": "e98d59cd-3cb3-4778-9690-afd041b79886"
      },
      "outputs": [
        {
          "output_type": "stream",
          "name": "stdout",
          "text": [
            "[10, 29, 30, 49, 19]\n"
          ]
        }
      ],
      "source": [
        "lis = [10 , 29 , 30 , 49 , 19 , 29 , 10]\n",
        "sets = set()\n",
        "empty_list = []\n",
        "for item in lis:\n",
        "  if item not in sets:\n",
        "    empty_list.append(item)\n",
        "    sets.add(item)\n",
        "print(empty_list)"
      ]
    },
    {
      "cell_type": "markdown",
      "id": "282337f7",
      "metadata": {
        "id": "282337f7"
      },
      "source": [
        "**29-Given list values and keys list, convert these values to key value pairs in form of list of dictionaries. (Input : test_list = [“Gfg”, 3, “is”, 8], key_list = [“name”, “id”]\n",
        "Output : [{‘name’: ‘Gfg’, ‘id’: 3}, {‘name’: ‘is’, ‘id’: 8}])"
      ]
    },
    {
      "cell_type": "code",
      "execution_count": null,
      "id": "4d4e2d28",
      "metadata": {
        "id": "4d4e2d28",
        "colab": {
          "base_uri": "https://localhost:8080/"
        },
        "outputId": "bfa9021c-4fa2-4b27-a2f2-49e8a1513ea5"
      },
      "outputs": [
        {
          "output_type": "stream",
          "name": "stdout",
          "text": [
            "[{'name': 'Gfg', 'id': 3}, {'name': 'is', 'id': 8}]\n"
          ]
        }
      ],
      "source": [
        "key_list = [\"name\", \"id\"]\n",
        "test_list = [\"Gfg\", 3, \"is\", 8]\n",
        "output = [dict(zip(key_list, test_list[i:i+len(key_list)])) for i in range(0, len(test_list), len(key_list))]\n",
        "print(output)"
      ]
    },
    {
      "cell_type": "markdown",
      "id": "c26b6e9f",
      "metadata": {
        "id": "c26b6e9f"
      },
      "source": [
        "**30-write a python program to count unique values inside a list using different ways"
      ]
    },
    {
      "cell_type": "code",
      "execution_count": null,
      "id": "72132667",
      "metadata": {
        "id": "72132667",
        "colab": {
          "base_uri": "https://localhost:8080/"
        },
        "outputId": "f5f29d41-c60e-4de8-8bd2-b348021e0ec5"
      },
      "outputs": [
        {
          "output_type": "stream",
          "name": "stdout",
          "text": [
            "10 Isn't Uniquevalue\n",
            "29 Is Uniquevalue\n",
            "30 Isn't Uniquevalue\n",
            "49 Is Uniquevalue\n",
            "19 Is Uniquevalue\n",
            "29 Is Uniquevalue\n",
            "10 Isn't Uniquevalue\n"
          ]
        }
      ],
      "source": [
        "lis = [10 , 29 , 30 , 49 , 19 , 29 , 10]\n",
        "for uniquevalue in lis:\n",
        "  if uniquevalue %2 != 0:\n",
        "    print(f\"{uniquevalue} Is Uniquevalue\")\n",
        "  else:\n",
        "    print(f\"{uniquevalue} Isn't Uniquevalue\")"
      ]
    },
    {
      "cell_type": "markdown",
      "id": "fed6677c",
      "metadata": {
        "id": "fed6677c"
      },
      "source": [
        "**31-write a python program Extract all elements with Frequency greater than K (Input : test_list = [4, 6, 4, 3, 3, 4, 3, 4, 3, 8], K = 3\n",
        "Output : [4, 3] )"
      ]
    },
    {
      "cell_type": "code",
      "execution_count": null,
      "id": "d81f3f9d",
      "metadata": {
        "id": "d81f3f9d",
        "colab": {
          "base_uri": "https://localhost:8080/"
        },
        "outputId": "9d320e66-b6c4-42db-b0fd-173f830db3fd"
      },
      "outputs": [
        {
          "output_type": "stream",
          "name": "stdout",
          "text": [
            "Elements appearing at least 3 times: [4, 3]\n"
          ]
        }
      ],
      "source": [
        "from collections import Counter\n",
        "test_list = [2 , 4 , 6, 4, 3, 3, 4, 3, 4, 3, 8]\n",
        "k = 3\n",
        "grelement = []\n",
        "counter = Counter(test_list)\n",
        "for key , value in counter.items():\n",
        "  if value >= k :\n",
        "    grelement.append(key)\n",
        "print(\"Elements appearing at least\",k, \"times:\", grelement)"
      ]
    },
    {
      "cell_type": "markdown",
      "id": "caca5224",
      "metadata": {
        "id": "caca5224"
      },
      "source": [
        "**32-write a python program to find the Strongest Neighbour (Input: 1 2 2 3 4 5\n",
        "Output: 2 2 3 4 5)"
      ]
    },
    {
      "cell_type": "code",
      "execution_count": null,
      "id": "39fbd9b2",
      "metadata": {
        "id": "39fbd9b2",
        "colab": {
          "base_uri": "https://localhost:8080/"
        },
        "outputId": "ec321148-49e9-47cb-9abd-de08d2128867"
      },
      "outputs": [
        {
          "output_type": "stream",
          "name": "stdout",
          "text": [
            "Strong Neighbour: [2, 2, 3, 4, 5]\n"
          ]
        }
      ],
      "source": [
        "def strong_neighbour(Input):\n",
        "  result = []\n",
        "  for i in range(len(Input) - 1):\n",
        "    result.append(max(Input[i] , Input[i +1]))\n",
        "  return result\n",
        "Input =  [1 ,2 ,2 ,3, 4 ,5]\n",
        "output = strong_neighbour(Input)\n",
        "print(f\"Strong Neighbour: {output}\")"
      ]
    },
    {
      "cell_type": "markdown",
      "id": "a9fa8baf",
      "metadata": {
        "id": "a9fa8baf"
      },
      "source": [
        "**33-write a Python Program to print all Possible Combinations from the three Digits (Input: [1, 2, 3]\n",
        "Output:\n",
        "1 2 3 ##\n",
        "1 3 2 ##\n",
        "2 1 3 ##\n",
        "2 3 1 ##\n",
        "3 1 2 ##\n",
        "3 2 1)"
      ]
    },
    {
      "cell_type": "code",
      "execution_count": 1,
      "id": "8c520a76",
      "metadata": {
        "id": "8c520a76",
        "colab": {
          "base_uri": "https://localhost:8080/"
        },
        "outputId": "dc9740de-e646-455e-e9b2-cd410271a72c"
      },
      "outputs": [
        {
          "output_type": "stream",
          "name": "stdout",
          "text": [
            "1 2 3 ## 1 3 2 ## 2 1 3 ## 2 3 1 ## 3 1 2 ## 3 2 1 ## "
          ]
        }
      ],
      "source": [
        "digits = [1, 2, 3]\n",
        "\n",
        "for i in digits:\n",
        "    for j in digits:\n",
        "        for k in digits:\n",
        "            if i != j and j != k and i != k:\n",
        "                print(i, j, k, end=' ## ')"
      ]
    },
    {
      "cell_type": "markdown",
      "id": "5288bb89",
      "metadata": {
        "id": "5288bb89"
      },
      "source": [
        "**34-write a Python program to find all the Combinations in the list with the given condition (Input: test_list = [1,2,3]\n",
        "Output:\n",
        " [1], [1, 2], [1, 2, 3], [1, 3]\n",
        " [2], [2, 3], [3])"
      ]
    },
    {
      "cell_type": "code",
      "execution_count": 2,
      "id": "59b89646",
      "metadata": {
        "id": "59b89646",
        "colab": {
          "base_uri": "https://localhost:8080/"
        },
        "outputId": "d7759eff-75a1-412b-9651-15ae17966592"
      },
      "outputs": [
        {
          "output_type": "stream",
          "name": "stdout",
          "text": [
            "[1]\n",
            "[1, 2]\n",
            "[1, 2, 3]\n",
            "[2]\n",
            "[2, 3]\n",
            "[3]\n"
          ]
        }
      ],
      "source": [
        "test_list = [1, 2, 3]\n",
        "n = len(test_list)\n",
        "\n",
        "result = []\n",
        "\n",
        "for i in range(n):\n",
        "    for j in range(i, n):\n",
        "        combination = test_list[i:j+1]\n",
        "        result.append(combination)\n",
        "\n",
        "# طباعة النتائج\n",
        "for item in result:\n",
        "    print(item)"
      ]
    },
    {
      "cell_type": "markdown",
      "id": "39973705",
      "metadata": {
        "id": "39973705"
      },
      "source": [
        "**35-write a Python program to get all unique combinations of two Lists (List_1 = [\"a\",\"b\"]\n",
        "List_2 = [1,2]\n",
        "Unique_combination = [[('a',1),('b',2)],[('a',2),('b',1)]] )"
      ]
    },
    {
      "cell_type": "code",
      "execution_count": 4,
      "id": "8c4ba22b",
      "metadata": {
        "id": "8c4ba22b",
        "colab": {
          "base_uri": "https://localhost:8080/"
        },
        "outputId": "850e43b8-c1b9-40b8-8c41-96ab03b1d21d"
      },
      "outputs": [
        {
          "output_type": "stream",
          "name": "stdout",
          "text": [
            "Unique combinations:\n",
            "[('a', 1), ('b', 2)]\n",
            "[('a', 2), ('b', 1)]\n"
          ]
        }
      ],
      "source": [
        "from itertools import permutations\n",
        "\n",
        "List_1 = [\"a\", \"b\"]\n",
        "List_2 = [1, 2]\n",
        "\n",
        "# بنجيب كل التباديل الممكنة لقائمة List_2\n",
        "perm = permutations(List_2)\n",
        "\n",
        "# بنركب كل تباديل List_2 مع List_1\n",
        "unique_combinations = []\n",
        "\n",
        "for p in perm:\n",
        "    combination = list(zip(List_1, p))\n",
        "    unique_combinations.append(combination)\n",
        "\n",
        "# طباعة النتيجة\n",
        "print(\"Unique combinations:\")\n",
        "for combo in unique_combinations:\n",
        "    print(combo)"
      ]
    },
    {
      "cell_type": "markdown",
      "id": "25199af5",
      "metadata": {
        "id": "25199af5"
      },
      "source": [
        "**36-Remove all the occurrences of an element from a list in Python (Input : 1 1 2 3 4 5 1 2 1\n",
        "\n",
        "**Output : 2 3 4 5 2)"
      ]
    },
    {
      "cell_type": "code",
      "execution_count": 5,
      "id": "6dc4c2ba",
      "metadata": {
        "id": "6dc4c2ba",
        "colab": {
          "base_uri": "https://localhost:8080/"
        },
        "outputId": "3903d97c-b941-49bd-fc5e-36111d031f62"
      },
      "outputs": [
        {
          "output_type": "stream",
          "name": "stdout",
          "text": [
            "Output: [2, 3, 4, 5, 2]\n"
          ]
        }
      ],
      "source": [
        "# القائمة الأصلية\n",
        "lst = [1, 1, 2, 3, 4, 5, 1, 2, 1]\n",
        "\n",
        "# العنصر اللي عايز تشيله\n",
        "to_remove = 1\n",
        "\n",
        "# فلترة القائمة لإزالة كل العناصر اللي تساوي to_remove\n",
        "result = [x for x in lst if x != to_remove]\n",
        "\n",
        "# طباعة الناتج\n",
        "print(\"Output:\", result)"
      ]
    },
    {
      "cell_type": "markdown",
      "id": "bf1a3c93",
      "metadata": {
        "id": "bf1a3c93"
      },
      "source": [
        "**37-write a python program to Replace index elements with elements in Other List (The original list 1 is : [‘Gfg’, ‘is’, ‘best’] The original list 2 is : [0, 1, 2, 1, 0, 0, 0, 2, 1, 1, 2, 0] The lists after index elements replacements is : [‘Gfg’, ‘is’, ‘best’, ‘is’, ‘Gfg’, ‘Gfg’, ‘Gfg’, ‘best’, ‘is’, ‘is’, ‘best’, ‘Gfg’])"
      ]
    },
    {
      "cell_type": "code",
      "execution_count": 6,
      "id": "fdd66a71",
      "metadata": {
        "id": "fdd66a71",
        "colab": {
          "base_uri": "https://localhost:8080/"
        },
        "outputId": "252fe0b7-2768-4d52-b137-88e3c5a1fc0e"
      },
      "outputs": [
        {
          "output_type": "stream",
          "name": "stdout",
          "text": [
            "The lists after index elements replacements is : ['Gfg', 'is', 'best', 'is', 'Gfg', 'Gfg', 'Gfg', 'best', 'is', 'is', 'best', 'Gfg']\n"
          ]
        }
      ],
      "source": [
        "# القائمتين\n",
        "list1 = ['Gfg', 'is', 'best']\n",
        "list2 = [0, 1, 2, 1, 0, 0, 0, 2, 1, 1, 2, 0]\n",
        "\n",
        "# استبدال كل عنصر في list2 بالقيمة المقابلة من list1 حسب الاندكس\n",
        "result = [list1[i] for i in list2]\n",
        "\n",
        "# طباعة النتيجة\n",
        "print(\"The lists after index elements replacements is :\", result)"
      ]
    },
    {
      "cell_type": "markdown",
      "id": "af0f56e8",
      "metadata": {
        "id": "af0f56e8"
      },
      "source": [
        "**38- write python program to Retain records with N occurrences of K(Input : test_list = [(4, 5, 5, 4), (5, 4, 3)], K = 5, N = 2\n",
        "Output : [(4, 5, 5, 4)]\n",
        "Input : test_list = [(4, 5, 5, 4), (5, 4, 3)], K = 5, N = 3\n",
        "Output : [] )"
      ]
    },
    {
      "cell_type": "code",
      "execution_count": 7,
      "id": "67b06671",
      "metadata": {
        "id": "67b06671",
        "colab": {
          "base_uri": "https://localhost:8080/"
        },
        "outputId": "0d6bd5e3-5a9f-4c60-dde2-85b7ff5404e6"
      },
      "outputs": [
        {
          "output_type": "stream",
          "name": "stdout",
          "text": [
            "Output 1: [(4, 5, 5, 4)]\n",
            "Output 2: []\n"
          ]
        }
      ],
      "source": [
        "# الدالة الأساسية\n",
        "def retain_with_n_occurrences(test_list, K, N):\n",
        "    result = [tup for tup in test_list if tup.count(K) == N]\n",
        "    return result\n",
        "\n",
        "# مثال 1\n",
        "test_list1 = [(4, 5, 5, 4), (5, 4, 3)]\n",
        "K1, N1 = 5, 2\n",
        "print(\"Output 1:\", retain_with_n_occurrences(test_list1, K1, N1))\n",
        "\n",
        "# مثال 2\n",
        "test_list2 = [(4, 5, 5, 4), (5, 4, 3)]\n",
        "K2, N2 = 5, 3\n",
        "print(\"Output 2:\", retain_with_n_occurrences(test_list2, K2, N2))"
      ]
    },
    {
      "cell_type": "markdown",
      "id": "de76f183",
      "metadata": {
        "id": "de76f183"
      },
      "source": [
        "**39-write a Python Program to Sort the list according to the column using lambda\n",
        "array = [[1, 3, 3], [2, 1, 2], [3, 2, 1]]\n",
        "Output :\n",
        "Sorted array specific to column 0, [[1, 3, 3], [2, 1, 2], [3, 2, 1]]\n",
        "Sorted array specific to column 1, [[2, 1, 2], [3, 2, 1], [1, 3, 3]]\n",
        "Sorted array specific to column 2, [[3, 2, 1], [2, 1, 2], [1, 3, 3]]"
      ]
    },
    {
      "cell_type": "code",
      "execution_count": 8,
      "id": "dc883308",
      "metadata": {
        "id": "dc883308",
        "colab": {
          "base_uri": "https://localhost:8080/"
        },
        "outputId": "0e9bde89-4cf8-4a8b-96ed-f2413e089ec6"
      },
      "outputs": [
        {
          "output_type": "stream",
          "name": "stdout",
          "text": [
            "Output 1: [(4, 5, 5, 4)]\n",
            "Output 2: []\n"
          ]
        }
      ],
      "source": [
        "# الدالة الأساسية\n",
        "def retain_with_n_occurrences(test_list, K, N):\n",
        "    result = [tup for tup in test_list if tup.count(K) == N]\n",
        "    return result\n",
        "\n",
        "# مثال 1\n",
        "test_list1 = [(4, 5, 5, 4), (5, 4, 3)]\n",
        "K1, N1 = 5, 2\n",
        "print(\"Output 1:\", retain_with_n_occurrences(test_list1, K1, N1))\n",
        "\n",
        "# مثال 2\n",
        "test_list2 = [(4, 5, 5, 4), (5, 4, 3)]\n",
        "K2, N2 = 5, 3\n",
        "print(\"Output 2:\", retain_with_n_occurrences(test_list2, K2, N2))"
      ]
    },
    {
      "cell_type": "code",
      "execution_count": null,
      "id": "d2e7b31f",
      "metadata": {
        "id": "d2e7b31f"
      },
      "outputs": [],
      "source": [
        "**40- write a program to Sort Python Dictionaries by Key or Value\n",
        "Input:\n",
        "{'ravi': 10, 'rajnish': 9, 'sanjeev': 15, 'yash': 2, 'suraj': 32}\n",
        "\n",
        "Output:\n",
        "{'rajnish': 9, 'ravi': 10, 'sanjeev': 15, 'suraj': 32, 'yash': 2}"
      ]
    },
    {
      "cell_type": "code",
      "execution_count": null,
      "id": "a96db4a0",
      "metadata": {
        "id": "a96db4a0",
        "colab": {
          "base_uri": "https://localhost:8080/"
        },
        "outputId": "5324d390-b631-4662-ea6f-92dc0d0000e0"
      },
      "outputs": [
        {
          "output_type": "stream",
          "name": "stdout",
          "text": [
            "{'rajnish': 9, 'ravi': 10, 'sanjeev': 15, 'suraj': 32, 'yash': 2}\n"
          ]
        }
      ],
      "source": [
        "sort_dict = {'ravi': 10, 'rajnish': 9, 'sanjeev': 15, 'yash': 2, 'suraj': 32}\n",
        "sort_by_key = dict(sorted(sort_dict.items()))\n",
        "print(sort_by_key)"
      ]
    },
    {
      "cell_type": "code",
      "source": [
        "sort_dict = {'ravi': 10, 'rajnish': 9, 'sanjeev': 15, 'yash': 2, 'suraj': 32}\n",
        "sort_by_value = dict(sorted(sort_dict.items() , key = lambda item : item[1]))\n",
        "print(sort_by_value)"
      ],
      "metadata": {
        "colab": {
          "base_uri": "https://localhost:8080/"
        },
        "id": "MtXoGMrri7zB",
        "outputId": "69e821af-a715-4047-85df-ac2eeefc1234"
      },
      "id": "MtXoGMrri7zB",
      "execution_count": null,
      "outputs": [
        {
          "output_type": "stream",
          "name": "stdout",
          "text": [
            "{'yash': 2, 'rajnish': 9, 'ravi': 10, 'sanjeev': 15, 'suraj': 32}\n"
          ]
        }
      ]
    },
    {
      "cell_type": "markdown",
      "id": "ec63c23a",
      "metadata": {
        "id": "ec63c23a"
      },
      "source": [
        "**41-write python program to Remove keys with Values Greater than K ( Including mixed values )\n",
        "nput : test_dict = {‘Gfg’ : 3, ‘is’ : 7, ‘best’ : 10, ‘for’ : 6, ‘geeks’ : ‘CS’},\n",
        "K = 7\n",
        "Output : {‘Gfg’ : 3, ‘for’ : 6, ‘geeks’ : ‘CS’}"
      ]
    },
    {
      "cell_type": "code",
      "execution_count": null,
      "id": "e39c3a40",
      "metadata": {
        "id": "e39c3a40",
        "colab": {
          "base_uri": "https://localhost:8080/"
        },
        "outputId": "e2e38b9a-433a-44f0-9c15-654c62876f02"
      },
      "outputs": [
        {
          "output_type": "stream",
          "name": "stdout",
          "text": [
            "{'Gfg': 3, 'is': 7, 'for': 6, 'geeks': 'CS'}\n"
          ]
        }
      ],
      "source": [
        "test_dict = {'Gfg' : 3, 'is' : 7, 'best' : 10, 'for' : 6, 'geeks' : 'CS'}\n",
        "K = 7\n",
        "new_dic = {}\n",
        "for key, value in test_dict.items():\n",
        "  if not (isinstance(value, int) and value > K):\n",
        "     new_dic[key] = value\n",
        "print(new_dic)"
      ]
    },
    {
      "cell_type": "markdown",
      "id": "f143f0fe",
      "metadata": {
        "id": "f143f0fe"
      },
      "source": [
        "**42-Write a Python program to concatenate the following dictionaries to create a new one\n",
        "\n",
        "Sample Dictionary :\n",
        "dic1={1:10, 2:20}\n",
        "dic2={3:30, 4:40}\n",
        "dic3={5:50,6:60}\n",
        "Expected Result : {1: 10, 2: 20, 3: 30, 4: 40, 5: 50, 6: 60}"
      ]
    },
    {
      "cell_type": "code",
      "execution_count": null,
      "id": "74ffdfea",
      "metadata": {
        "id": "74ffdfea",
        "colab": {
          "base_uri": "https://localhost:8080/"
        },
        "outputId": "d790d3b7-46f9-4a3c-82e2-5a5820377255"
      },
      "outputs": [
        {
          "output_type": "stream",
          "name": "stdout",
          "text": [
            "{1: 10, 2: 20, 3: 30, 4: 40, 5: 50, 6: 60}\n"
          ]
        }
      ],
      "source": [
        "dic1={1:10, 2:20}\n",
        "dic2={3:30, 4:40}\n",
        "dic3={5:50,6:60}\n",
        "new_dic = {**dic1 , **dic2 , **dic3}\n",
        "print(new_dic)"
      ]
    },
    {
      "cell_type": "markdown",
      "id": "fb04c93c",
      "metadata": {
        "id": "fb04c93c"
      },
      "source": [
        "**43-Write a Python program to iterate over dictionaries using for loops"
      ]
    },
    {
      "cell_type": "code",
      "execution_count": null,
      "id": "6aebc470",
      "metadata": {
        "id": "6aebc470",
        "colab": {
          "base_uri": "https://localhost:8080/"
        },
        "outputId": "5ffbf5b7-c298-4902-dcd4-b58c7f8bab1b"
      },
      "outputs": [
        {
          "output_type": "stream",
          "name": "stdout",
          "text": [
            "Key Is: a -> Value Is: 10\n",
            "Key Is: b -> Value Is: 20\n",
            "Key Is: c -> Value Is: 30\n",
            "Key Is: d -> Value Is: 40\n"
          ]
        }
      ],
      "source": [
        "dic = {'a' : 10 , 'b' : 20 , 'c' : 30 , 'd' : 40}\n",
        "for key , Value in dic.items() :\n",
        "  print(f\"Key Is: {key} -> Value Is: {Value}\")"
      ]
    },
    {
      "cell_type": "markdown",
      "id": "5f491a9d",
      "metadata": {
        "id": "5f491a9d"
      },
      "source": [
        "**44- Write a Python script to merge two Python dictionaries"
      ]
    },
    {
      "cell_type": "code",
      "execution_count": null,
      "id": "b8a14028",
      "metadata": {
        "id": "b8a14028",
        "colab": {
          "base_uri": "https://localhost:8080/"
        },
        "outputId": "9d491d5d-0c6e-4a10-9da3-2c813fd62ce6"
      },
      "outputs": [
        {
          "output_type": "stream",
          "name": "stdout",
          "text": [
            "{'a': 10, 'b': 30, 'c': 40, 'd': 20, 'e': 50, 'f': 60}\n"
          ]
        }
      ],
      "source": [
        "dic1 = {'a' : 10 , 'b' : 30 , 'c' : 40}\n",
        "dic2 = {'d' : 20 , 'e' : 50 , 'f' : 60}\n",
        "dic = {**dic1 , **dic2}\n",
        "print(dic)"
      ]
    },
    {
      "cell_type": "markdown",
      "id": "216fc72d",
      "metadata": {
        "id": "216fc72d"
      },
      "source": [
        "**45-Write a Python program to get the maximum and minimum values of a dictionary values"
      ]
    },
    {
      "cell_type": "code",
      "execution_count": null,
      "id": "d6883f5f",
      "metadata": {
        "id": "d6883f5f",
        "colab": {
          "base_uri": "https://localhost:8080/"
        },
        "outputId": "08327762-c1c5-4a88-acc7-53cde1e3f7b6"
      },
      "outputs": [
        {
          "output_type": "stream",
          "name": "stdout",
          "text": [
            "Maximum Value Is: c\n",
            "Minimum Value Is: a\n"
          ]
        }
      ],
      "source": [
        "Dic = {'a' : 20 , 'b' : 30 , 'c' : 34}\n",
        "print(f\"Maximum Value Is: {max(Dic)}\")\n",
        "print(f\"Minimum Value Is: {min(Dic)}\")"
      ]
    },
    {
      "cell_type": "markdown",
      "id": "b6a53011",
      "metadata": {
        "id": "b6a53011"
      },
      "source": [
        "**46- Write a Python program to drop empty items from a given dictionary.\n",
        "Original Dictionary:\n",
        "{'c1': 'Red', 'c2': 'Green', 'c3': None}\n",
        "New Dictionary after dropping empty items:\n",
        "{'c1': 'Red', 'c2': 'Green'}"
      ]
    },
    {
      "cell_type": "code",
      "execution_count": null,
      "id": "b5c6fecf",
      "metadata": {
        "id": "b5c6fecf",
        "colab": {
          "base_uri": "https://localhost:8080/"
        },
        "outputId": "c2ea02c5-269d-4f54-81f8-bafd2f759dc4"
      },
      "outputs": [
        {
          "output_type": "stream",
          "name": "stdout",
          "text": [
            "Original Dictionary: {'c1': 'Red', 'c2': 'Green', 'c3': None}\n",
            "New Dictionary after dropping empty items: {'c1': 'Red', 'c2': 'Green'}\n"
          ]
        }
      ],
      "source": [
        "original_dict = {'c1': 'Red', 'c2': 'Green', 'c3': None}\n",
        "\n",
        "new_dict = {key: value for key, value in original_dict.items() if value is not None}\n",
        "\n",
        "print(\"Original Dictionary:\", original_dict)\n",
        "print(\"New Dictionary after dropping empty items:\", new_dict)"
      ]
    },
    {
      "cell_type": "markdown",
      "id": "46d718c7",
      "metadata": {
        "id": "46d718c7"
      },
      "source": [
        "**47-Write a Python program to create a tuple of numbers and print one item"
      ]
    },
    {
      "cell_type": "code",
      "execution_count": null,
      "id": "13216ff5",
      "metadata": {
        "id": "13216ff5",
        "colab": {
          "base_uri": "https://localhost:8080/"
        },
        "outputId": "2cfff924-2998-4d11-b6c1-d79e483ec46a"
      },
      "outputs": [
        {
          "output_type": "stream",
          "name": "stdout",
          "text": [
            "20\n"
          ]
        }
      ],
      "source": [
        "tup = (20 , 30 , 40)\n",
        "a , b , c = tuple(tup)\n",
        "print(a)"
      ]
    },
    {
      "cell_type": "markdown",
      "id": "2be5b56b",
      "metadata": {
        "id": "2be5b56b"
      },
      "source": [
        "**48-Write a Python program to unpack a tuple into several variables"
      ]
    },
    {
      "cell_type": "code",
      "execution_count": null,
      "id": "595f44be",
      "metadata": {
        "id": "595f44be",
        "colab": {
          "base_uri": "https://localhost:8080/"
        },
        "outputId": "fedb7efe-a102-4a6f-e2da-dadf0099c710"
      },
      "outputs": [
        {
          "output_type": "stream",
          "name": "stdout",
          "text": [
            "a =  20\n",
            "b =  30\n",
            "c =  40\n"
          ]
        }
      ],
      "source": [
        "tu = (20 , 30 , 40)\n",
        "a , b , c = tuple(tu)\n",
        "print(\"a = \" , a)\n",
        "print(\"b = \" , b)\n",
        "print(\"c = \" , c)"
      ]
    },
    {
      "cell_type": "markdown",
      "id": "392388a7",
      "metadata": {
        "id": "392388a7"
      },
      "source": [
        "c**49-Write a Python program to add an item to a tuple"
      ]
    },
    {
      "cell_type": "code",
      "execution_count": null,
      "id": "54cc092e",
      "metadata": {
        "id": "54cc092e",
        "colab": {
          "base_uri": "https://localhost:8080/"
        },
        "outputId": "62f08f3e-b77a-462d-bb6a-d8ae705e6e1c"
      },
      "outputs": [
        {
          "output_type": "stream",
          "name": "stdout",
          "text": [
            "(1, 2, 3, 4)\n"
          ]
        }
      ],
      "source": [
        "my_tuple = (1, 2, 3)\n",
        "temp_list = list(my_tuple)\n",
        "temp_list.append(4)\n",
        "my_tuple = tuple(temp_list)\n",
        "print(my_tuple)"
      ]
    },
    {
      "cell_type": "markdown",
      "id": "3e8fd124",
      "metadata": {
        "id": "3e8fd124"
      },
      "source": [
        "**50-Write a Python program to convert a tuple to a string"
      ]
    },
    {
      "cell_type": "code",
      "execution_count": null,
      "id": "92a71ddc",
      "metadata": {
        "id": "92a71ddc",
        "colab": {
          "base_uri": "https://localhost:8080/"
        },
        "outputId": "2f284040-cfa1-4eac-9b8d-733a19ea955b"
      },
      "outputs": [
        {
          "output_type": "stream",
          "name": "stdout",
          "text": [
            "MOSTAFA\n"
          ]
        }
      ],
      "source": [
        "tu = ('M' , 'O' , 'S' , 'T' , 'A' , 'F' , 'A')\n",
        "st = ''.join(tu)\n",
        "print(st)"
      ]
    },
    {
      "cell_type": "markdown",
      "id": "f4f64ef4",
      "metadata": {
        "id": "f4f64ef4"
      },
      "source": [
        "**51-Write a Python program to convert a list to a tuple"
      ]
    },
    {
      "cell_type": "code",
      "execution_count": null,
      "id": "210d56d3",
      "metadata": {
        "id": "210d56d3",
        "colab": {
          "base_uri": "https://localhost:8080/"
        },
        "outputId": "4eddf03d-d524-4b61-e602-68083667ded1"
      },
      "outputs": [
        {
          "output_type": "stream",
          "name": "stdout",
          "text": [
            "(20, 30, 40, 50, 60)\n"
          ]
        }
      ],
      "source": [
        "li = [20 , 30 , 40 , 50 , 60]\n",
        "tu = tuple(li)\n",
        "print(tu)"
      ]
    },
    {
      "cell_type": "markdown",
      "id": "b1e00ef7",
      "metadata": {
        "id": "b1e00ef7"
      },
      "source": [
        "**52-Write a Python program to reverse a tuple"
      ]
    },
    {
      "cell_type": "code",
      "execution_count": null,
      "id": "f45bfdc7",
      "metadata": {
        "id": "f45bfdc7",
        "colab": {
          "base_uri": "https://localhost:8080/"
        },
        "outputId": "5f8afaab-cf0c-452c-c983-7a5539d9f7b1"
      },
      "outputs": [
        {
          "output_type": "stream",
          "name": "stdout",
          "text": [
            "(5, 4, 3, 2, 1)\n"
          ]
        }
      ],
      "source": [
        "tu = (1 , 2 , 3 , 4 , 5)\n",
        "tu = tuple(reversed(tu))\n",
        "print(tu)"
      ]
    },
    {
      "cell_type": "markdown",
      "id": "3cd347d1",
      "metadata": {
        "id": "3cd347d1"
      },
      "source": [
        "**53-Write a Python program to replace the last value of tuples in a list.\n",
        "Sample list: [(10, 20, 40), (40, 50, 60), (70, 80, 90)]\n",
        "Expected Output: [(10, 20, 100), (40, 50, 100), (70, 80, 100)]"
      ]
    },
    {
      "cell_type": "code",
      "execution_count": null,
      "id": "3c4a2a4c",
      "metadata": {
        "id": "3c4a2a4c",
        "colab": {
          "base_uri": "https://localhost:8080/"
        },
        "outputId": "dd4627fc-f51f-4c27-fec1-d995d32a8de9"
      },
      "outputs": [
        {
          "output_type": "stream",
          "name": "stdout",
          "text": [
            "[(10, 20, 100), (40, 50, 100), (70, 80, 100)]\n"
          ]
        }
      ],
      "source": [
        "from os import replace\n",
        "List_Value = [(10, 20, 40), (40, 50, 60), (70, 80, 90)]\n",
        "new_list = [(a, b, 100) for (a, b, c) in List_Value]\n",
        "print(new_list)"
      ]
    },
    {
      "cell_type": "markdown",
      "id": "76bb7b39",
      "metadata": {
        "id": "76bb7b39"
      },
      "source": [
        "**54-Write a Python program to convert a given string list to a tuple\n",
        "Original string: python 3.0\n",
        "<class 'str'>\n",
        "Convert the said string to a tuple:\n",
        "('p', 'y', 't', 'h', 'o', 'n', '3', '.', '0')"
      ]
    },
    {
      "cell_type": "code",
      "execution_count": null,
      "id": "51951937",
      "metadata": {
        "id": "51951937",
        "colab": {
          "base_uri": "https://localhost:8080/"
        },
        "outputId": "e9043a65-a402-49d9-e8f3-6928bfa0655e"
      },
      "outputs": [
        {
          "output_type": "stream",
          "name": "stdout",
          "text": [
            "('python', '3.0', \"<class 'str'>\")\n"
          ]
        }
      ],
      "source": [
        "List_Value = [\"python\", \"3.0\", \"<class 'str'>\"]\n",
        "tuplee_Value = tuple(List_Value)\n",
        "print(tuplee_Value)"
      ]
    },
    {
      "cell_type": "markdown",
      "id": "5a1d5d97",
      "metadata": {
        "id": "5a1d5d97"
      },
      "source": [
        "**55-Write a Python program to calculate the average value of the numbers in a given tuple of tuples"
      ]
    },
    {
      "cell_type": "code",
      "source": [
        "a = (1 , 2 , 50 , 47 , 29 , 87) , (24 , 36 , 27 , 37 , 46)\n",
        "all_numbers = [num for group in a for num in group]\n",
        "total_sum_value = __builtins__.sum(all_numbers)\n",
        "lenth = len(all_numbers)\n",
        "average = total_sum_value / lenth\n",
        "print(average)"
      ],
      "metadata": {
        "colab": {
          "base_uri": "https://localhost:8080/"
        },
        "id": "laby1DUAc1C8",
        "outputId": "049ed3a5-5b28-43bd-ccfb-cf4ae31f4a6f"
      },
      "id": "laby1DUAc1C8",
      "execution_count": null,
      "outputs": [
        {
          "output_type": "stream",
          "name": "stdout",
          "text": [
            "35.09090909090909\n"
          ]
        }
      ]
    },
    {
      "cell_type": "markdown",
      "id": "51edab9c",
      "metadata": {
        "id": "51edab9c"
      },
      "source": [
        "**56-Write a Python program to add member(s) to a set."
      ]
    },
    {
      "cell_type": "code",
      "execution_count": null,
      "id": "2b65df79",
      "metadata": {
        "id": "2b65df79",
        "colab": {
          "base_uri": "https://localhost:8080/"
        },
        "outputId": "3bbe7135-11db-4a46-8e5a-e66ca231ed5b"
      },
      "outputs": [
        {
          "output_type": "stream",
          "name": "stdout",
          "text": [
            "Enter Your Number You Want To added: 7\n",
            "{1, 2, 3, 4, 5, 6, 7}\n"
          ]
        }
      ],
      "source": [
        "a = {1 , 2 , 3 , 4 , 5 , 6}\n",
        "s = int(input(\"Enter Your Number You Want To added: \"))\n",
        "a.add(s)\n",
        "print(a)"
      ]
    },
    {
      "cell_type": "markdown",
      "id": "965590cc",
      "metadata": {
        "id": "965590cc"
      },
      "source": [
        "**57-Write a Python program to remove an item from a set if it is present in the set."
      ]
    },
    {
      "cell_type": "code",
      "execution_count": null,
      "id": "866bab28",
      "metadata": {
        "id": "866bab28",
        "colab": {
          "base_uri": "https://localhost:8080/"
        },
        "outputId": "e431c208-b7f7-4abe-bf4f-49749ff46bbd"
      },
      "outputs": [
        {
          "output_type": "stream",
          "name": "stdout",
          "text": [
            "Enter Your Number: 8\n",
            "8\n",
            "{1, 2, 4, 6, 7}\n"
          ]
        }
      ],
      "source": [
        "st1 = {1 , 2 , 4 , 6 , 7}\n",
        "n = int(input(\"Enter Your Number: \"))\n",
        "if n in st1 :\n",
        "  st1.remove(n)\n",
        "  print(n)\n",
        "else :\n",
        "  print(n)\n",
        "print(st1)"
      ]
    },
    {
      "cell_type": "markdown",
      "id": "2b7cfed1",
      "metadata": {
        "id": "2b7cfed1"
      },
      "source": [
        "**58-Write a Python program to create an intersection,union,difference and symmetric difference of sets"
      ]
    },
    {
      "cell_type": "code",
      "execution_count": null,
      "id": "7f94b7fe",
      "metadata": {
        "id": "7f94b7fe",
        "colab": {
          "base_uri": "https://localhost:8080/"
        },
        "outputId": "e5c7c6c9-7e53-4019-f0b4-db7564bd89f1"
      },
      "outputs": [
        {
          "output_type": "stream",
          "name": "stdout",
          "text": [
            "Union {1, 2, 3, 4, 5, 6, 7, 8}\n",
            "intersection {4, 5}\n",
            "difference {1, 2, 3}\n",
            "symmetric difference {1, 2, 3, 6, 7, 8}\n"
          ]
        }
      ],
      "source": [
        "st1, st2 = {1,2,3,4,5}, {4,5,6,7,8}\n",
        "print(f'Union {st1 | st2}')\n",
        "print(f'intersection {st1 & st2}')\n",
        "print(f'difference {st1 -  st2}')\n",
        "print(f'symmetric difference {st1 ^ st2}')\n"
      ]
    },
    {
      "cell_type": "markdown",
      "id": "b94931e2",
      "metadata": {
        "id": "b94931e2"
      },
      "source": [
        "**59-Write a Python program to find the maximum and minimum values in a set"
      ]
    },
    {
      "cell_type": "code",
      "execution_count": null,
      "id": "203f9600",
      "metadata": {
        "id": "203f9600",
        "colab": {
          "base_uri": "https://localhost:8080/"
        },
        "outputId": "e0552d83-6d6e-4dba-87aa-d196833fbfa0"
      },
      "outputs": [
        {
          "output_type": "stream",
          "name": "stdout",
          "text": [
            "The maximum Number in Set is: 90\n",
            "The minimum Number in Set is: 10\n"
          ]
        }
      ],
      "source": [
        "st = {20 , 30 , 40 , 50 , 90 , 10}\n",
        "print(f\"The maximum Number in Set is: {max(st)}\")\n",
        "print(f\"The minimum Number in Set is: {min(st)}\")"
      ]
    },
    {
      "cell_type": "markdown",
      "id": "255fd554",
      "metadata": {
        "id": "255fd554"
      },
      "source": [
        "**60- Write a Python program that finds all pairs of elements in a list whose sum is equal to a given value."
      ]
    },
    {
      "cell_type": "code",
      "execution_count": null,
      "id": "c2d94e1f",
      "metadata": {
        "id": "c2d94e1f",
        "colab": {
          "base_uri": "https://localhost:8080/"
        },
        "outputId": "2faf76e6-7cac-4685-833b-6fc5f703eae4"
      },
      "outputs": [
        {
          "output_type": "stream",
          "name": "stdout",
          "text": [
            "pairs = [(40, 50)] , sum of pairs = 90\n"
          ]
        }
      ],
      "source": [
        "def sum_num(n , sumnum):\n",
        "   pairs = []\n",
        "   for i in range(len(n)):\n",
        "    for j in range(i + 1 , len(n)):\n",
        "      if n[i] + n[j] == sumnum:\n",
        "        pairs.append((n[i] , n[j]))\n",
        "   return pairs\n",
        "st = [20 , 30 , 40 , 50 , 90 , 10]\n",
        "sum_nums = 90\n",
        "result = sum_num(st , sum_nums)\n",
        "print(f\"pairs = {result} , sum of pairs = {sum_nums}\")"
      ]
    }
  ],
  "metadata": {
    "kernelspec": {
      "display_name": "Python 3 (ipykernel)",
      "language": "python",
      "name": "python3"
    },
    "language_info": {
      "codemirror_mode": {
        "name": "ipython",
        "version": 3
      },
      "file_extension": ".py",
      "mimetype": "text/x-python",
      "name": "python",
      "nbconvert_exporter": "python",
      "pygments_lexer": "ipython3",
      "version": "3.9.7"
    },
    "colab": {
      "provenance": []
    }
  },
  "nbformat": 4,
  "nbformat_minor": 5
}